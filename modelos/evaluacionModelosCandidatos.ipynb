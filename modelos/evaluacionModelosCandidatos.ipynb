{
 "cells": [
  {
   "cell_type": "markdown",
   "id": "57dd5642",
   "metadata": {},
   "source": [
    "# Evaluación de modelos candidatos"
   ]
  },
  {
   "cell_type": "markdown",
   "id": "5a33b84c",
   "metadata": {},
   "source": [
    "[Carga y preparación datos train y test](#Carga-y-preparación-datos-train-y-test)\n",
    "\n",
    "[Recuperación de modelos de mlflow](#Recuperación-de-modelos-de-mlflow)\n",
    "\n",
    "**Análisis**\n",
    "* [Análisis balanced_accuracy](#Análisis-balanced_accuracy)\n",
    "* [Análisis especificidad y sensibilidad](#Análisis-especificidad-y-sensibilidad)\n",
    "* [Análisis por segmentos (géneros literarios)](#Análisis-por-segmentos-(géneros-literarios))\n",
    "* [Análisis de las variables de cada modelo](#Análisis-de-las-variables-de-cada-modelo)"
   ]
  },
  {
   "cell_type": "markdown",
   "id": "2590316d",
   "metadata": {},
   "source": [
    "## Carga y preparación datos train y test"
   ]
  },
  {
   "cell_type": "markdown",
   "id": "103b7504",
   "metadata": {},
   "source": [
    "**Carga datos**"
   ]
  },
  {
   "cell_type": "code",
   "execution_count": 1,
   "id": "244107f1",
   "metadata": {},
   "outputs": [],
   "source": [
    "import pandas as pd"
   ]
  },
  {
   "cell_type": "code",
   "execution_count": 2,
   "id": "03672ed8",
   "metadata": {},
   "outputs": [],
   "source": [
    "import os\n",
    "import sys\n",
    "\n",
    "# Añadimos la carpeta 'drive' al path\n",
    "ruta_carpeta_drive = os.path.abspath('../drive')\n",
    "if ruta_carpeta_drive not in sys.path:\n",
    "    sys.path.insert(0, ruta_carpeta_drive)\n",
    "\n",
    "import drive"
   ]
  },
  {
   "cell_type": "code",
   "execution_count": 3,
   "id": "47dd89f7",
   "metadata": {},
   "outputs": [
    {
     "name": "stdout",
     "output_type": "stream",
     "text": [
      "Archivo datosEntrenamiento.parquet guardado en: ../data/clean/datosEntrenamiento.parquet\n"
     ]
    }
   ],
   "source": [
    "# Descargamos los datos en formato parquet de Google Drive\n",
    "drive.descargar_archivos_concretos('datosEntrenamiento.parquet', '../drive')"
   ]
  },
  {
   "cell_type": "code",
   "execution_count": 4,
   "id": "9b787b88",
   "metadata": {},
   "outputs": [],
   "source": [
    "data = pd.read_parquet('../data/clean/datosEntrenamiento.parquet')"
   ]
  },
  {
   "cell_type": "code",
   "execution_count": 5,
   "id": "8b2011ba",
   "metadata": {},
   "outputs": [
    {
     "data": {
      "text/html": [
       "<div>\n",
       "<style scoped>\n",
       "    .dataframe tbody tr th:only-of-type {\n",
       "        vertical-align: middle;\n",
       "    }\n",
       "\n",
       "    .dataframe tbody tr th {\n",
       "        vertical-align: top;\n",
       "    }\n",
       "\n",
       "    .dataframe thead th {\n",
       "        text-align: right;\n",
       "    }\n",
       "</style>\n",
       "<table border=\"1\" class=\"dataframe\">\n",
       "  <thead>\n",
       "    <tr style=\"text-align: right;\">\n",
       "      <th></th>\n",
       "      <th>Bestseller</th>\n",
       "      <th>NumPages</th>\n",
       "      <th>SagaNumber</th>\n",
       "      <th>RedPerc</th>\n",
       "      <th>BluePerc</th>\n",
       "      <th>BelongsSaga</th>\n",
       "      <th>Price</th>\n",
       "      <th>WordsTitle</th>\n",
       "      <th>PriceFormat</th>\n",
       "      <th>BookInterest1M</th>\n",
       "      <th>...</th>\n",
       "      <th>World History</th>\n",
       "      <th>World War I</th>\n",
       "      <th>World War II</th>\n",
       "      <th>Writing</th>\n",
       "      <th>Young Adult</th>\n",
       "      <th>Young Adult Contemporary</th>\n",
       "      <th>Young Adult Fantasy</th>\n",
       "      <th>Young Adult Romance</th>\n",
       "      <th>Young Adult Science Fiction</th>\n",
       "      <th>Zombies</th>\n",
       "    </tr>\n",
       "  </thead>\n",
       "  <tbody>\n",
       "    <tr>\n",
       "      <th>0</th>\n",
       "      <td>0.0</td>\n",
       "      <td>329.0</td>\n",
       "      <td>1.0</td>\n",
       "      <td>0.51</td>\n",
       "      <td>0.40</td>\n",
       "      <td>0</td>\n",
       "      <td>19.99</td>\n",
       "      <td>1.0</td>\n",
       "      <td>paperback</td>\n",
       "      <td>0.0</td>\n",
       "      <td>...</td>\n",
       "      <td>0</td>\n",
       "      <td>0</td>\n",
       "      <td>0</td>\n",
       "      <td>0</td>\n",
       "      <td>0</td>\n",
       "      <td>0</td>\n",
       "      <td>0</td>\n",
       "      <td>0</td>\n",
       "      <td>0</td>\n",
       "      <td>0</td>\n",
       "    </tr>\n",
       "    <tr>\n",
       "      <th>1</th>\n",
       "      <td>0.0</td>\n",
       "      <td>269.0</td>\n",
       "      <td>2.0</td>\n",
       "      <td>0.61</td>\n",
       "      <td>0.54</td>\n",
       "      <td>1</td>\n",
       "      <td>3.99</td>\n",
       "      <td>2.0</td>\n",
       "      <td>ebook</td>\n",
       "      <td>0.0</td>\n",
       "      <td>...</td>\n",
       "      <td>0</td>\n",
       "      <td>0</td>\n",
       "      <td>0</td>\n",
       "      <td>0</td>\n",
       "      <td>0</td>\n",
       "      <td>0</td>\n",
       "      <td>0</td>\n",
       "      <td>0</td>\n",
       "      <td>0</td>\n",
       "      <td>0</td>\n",
       "    </tr>\n",
       "    <tr>\n",
       "      <th>2</th>\n",
       "      <td>0.0</td>\n",
       "      <td>2335.0</td>\n",
       "      <td>1.0</td>\n",
       "      <td>0.72</td>\n",
       "      <td>0.57</td>\n",
       "      <td>1</td>\n",
       "      <td>20.99</td>\n",
       "      <td>7.0</td>\n",
       "      <td>ebook</td>\n",
       "      <td>0.0</td>\n",
       "      <td>...</td>\n",
       "      <td>0</td>\n",
       "      <td>0</td>\n",
       "      <td>0</td>\n",
       "      <td>0</td>\n",
       "      <td>1</td>\n",
       "      <td>0</td>\n",
       "      <td>0</td>\n",
       "      <td>0</td>\n",
       "      <td>0</td>\n",
       "      <td>0</td>\n",
       "    </tr>\n",
       "    <tr>\n",
       "      <th>3</th>\n",
       "      <td>0.0</td>\n",
       "      <td>40.0</td>\n",
       "      <td>1.0</td>\n",
       "      <td>0.83</td>\n",
       "      <td>0.35</td>\n",
       "      <td>0</td>\n",
       "      <td>25.00</td>\n",
       "      <td>1.0</td>\n",
       "      <td>hardcover</td>\n",
       "      <td>0.0</td>\n",
       "      <td>...</td>\n",
       "      <td>0</td>\n",
       "      <td>0</td>\n",
       "      <td>0</td>\n",
       "      <td>0</td>\n",
       "      <td>1</td>\n",
       "      <td>0</td>\n",
       "      <td>0</td>\n",
       "      <td>0</td>\n",
       "      <td>0</td>\n",
       "      <td>0</td>\n",
       "    </tr>\n",
       "    <tr>\n",
       "      <th>4</th>\n",
       "      <td>0.0</td>\n",
       "      <td>189.0</td>\n",
       "      <td>1.0</td>\n",
       "      <td>0.59</td>\n",
       "      <td>0.26</td>\n",
       "      <td>0</td>\n",
       "      <td>15.00</td>\n",
       "      <td>4.0</td>\n",
       "      <td>paperback</td>\n",
       "      <td>0.0</td>\n",
       "      <td>...</td>\n",
       "      <td>0</td>\n",
       "      <td>0</td>\n",
       "      <td>0</td>\n",
       "      <td>0</td>\n",
       "      <td>0</td>\n",
       "      <td>0</td>\n",
       "      <td>0</td>\n",
       "      <td>0</td>\n",
       "      <td>0</td>\n",
       "      <td>0</td>\n",
       "    </tr>\n",
       "  </tbody>\n",
       "</table>\n",
       "<p>5 rows × 345 columns</p>\n",
       "</div>"
      ],
      "text/plain": [
       "   Bestseller  NumPages  SagaNumber  RedPerc  BluePerc  BelongsSaga  Price  \\\n",
       "0         0.0     329.0         1.0     0.51      0.40            0  19.99   \n",
       "1         0.0     269.0         2.0     0.61      0.54            1   3.99   \n",
       "2         0.0    2335.0         1.0     0.72      0.57            1  20.99   \n",
       "3         0.0      40.0         1.0     0.83      0.35            0  25.00   \n",
       "4         0.0     189.0         1.0     0.59      0.26            0  15.00   \n",
       "\n",
       "   WordsTitle PriceFormat  BookInterest1M  ...  World History  World War I  \\\n",
       "0         1.0   paperback             0.0  ...              0            0   \n",
       "1         2.0       ebook             0.0  ...              0            0   \n",
       "2         7.0       ebook             0.0  ...              0            0   \n",
       "3         1.0   hardcover             0.0  ...              0            0   \n",
       "4         4.0   paperback             0.0  ...              0            0   \n",
       "\n",
       "   World War II  Writing  Young Adult  Young Adult Contemporary  \\\n",
       "0             0        0            0                         0   \n",
       "1             0        0            0                         0   \n",
       "2             0        0            1                         0   \n",
       "3             0        0            1                         0   \n",
       "4             0        0            0                         0   \n",
       "\n",
       "   Young Adult Fantasy  Young Adult Romance  Young Adult Science Fiction  \\\n",
       "0                    0                    0                            0   \n",
       "1                    0                    0                            0   \n",
       "2                    0                    0                            0   \n",
       "3                    0                    0                            0   \n",
       "4                    0                    0                            0   \n",
       "\n",
       "   Zombies  \n",
       "0        0  \n",
       "1        0  \n",
       "2        0  \n",
       "3        0  \n",
       "4        0  \n",
       "\n",
       "[5 rows x 345 columns]"
      ]
     },
     "execution_count": 5,
     "metadata": {},
     "output_type": "execute_result"
    }
   ],
   "source": [
    "data.head()"
   ]
  },
  {
   "cell_type": "markdown",
   "id": "057786e9",
   "metadata": {},
   "source": [
    "**Separación train y test**"
   ]
  },
  {
   "cell_type": "code",
   "execution_count": 6,
   "id": "46ca4f42",
   "metadata": {},
   "outputs": [],
   "source": [
    "# Semilla\n",
    "SEED = 22\n",
    "\n",
    "# Proporción del conjunto de test\n",
    "TEST_SIZE = 0.3"
   ]
  },
  {
   "cell_type": "markdown",
   "id": "07768bc1",
   "metadata": {},
   "source": [
    "Separamos el conjunto de datos sin escalar en train y test"
   ]
  },
  {
   "cell_type": "code",
   "execution_count": 7,
   "id": "5d3c0838",
   "metadata": {},
   "outputs": [],
   "source": [
    "from sklearn.model_selection import train_test_split"
   ]
  },
  {
   "cell_type": "code",
   "execution_count": 8,
   "id": "f4aff17e",
   "metadata": {},
   "outputs": [],
   "source": [
    "X = data.drop('Bestseller', axis=1)\n",
    "y = data['Bestseller']\n",
    "X_train, X_test, y_train, y_test = train_test_split(X, y, test_size=TEST_SIZE, stratify=y, random_state=SEED)"
   ]
  },
  {
   "cell_type": "code",
   "execution_count": 9,
   "id": "4cf24cba",
   "metadata": {},
   "outputs": [
    {
     "data": {
      "text/html": [
       "<div>\n",
       "<style scoped>\n",
       "    .dataframe tbody tr th:only-of-type {\n",
       "        vertical-align: middle;\n",
       "    }\n",
       "\n",
       "    .dataframe tbody tr th {\n",
       "        vertical-align: top;\n",
       "    }\n",
       "\n",
       "    .dataframe thead th {\n",
       "        text-align: right;\n",
       "    }\n",
       "</style>\n",
       "<table border=\"1\" class=\"dataframe\">\n",
       "  <thead>\n",
       "    <tr style=\"text-align: right;\">\n",
       "      <th></th>\n",
       "      <th>NumPages</th>\n",
       "      <th>SagaNumber</th>\n",
       "      <th>RedPerc</th>\n",
       "      <th>BluePerc</th>\n",
       "      <th>BelongsSaga</th>\n",
       "      <th>Price</th>\n",
       "      <th>WordsTitle</th>\n",
       "      <th>PriceFormat</th>\n",
       "      <th>BookInterest1M</th>\n",
       "      <th>Rating20Days</th>\n",
       "      <th>...</th>\n",
       "      <th>World History</th>\n",
       "      <th>World War I</th>\n",
       "      <th>World War II</th>\n",
       "      <th>Writing</th>\n",
       "      <th>Young Adult</th>\n",
       "      <th>Young Adult Contemporary</th>\n",
       "      <th>Young Adult Fantasy</th>\n",
       "      <th>Young Adult Romance</th>\n",
       "      <th>Young Adult Science Fiction</th>\n",
       "      <th>Zombies</th>\n",
       "    </tr>\n",
       "  </thead>\n",
       "  <tbody>\n",
       "    <tr>\n",
       "      <th>2720</th>\n",
       "      <td>300.0</td>\n",
       "      <td>2.0</td>\n",
       "      <td>0.49</td>\n",
       "      <td>0.28</td>\n",
       "      <td>1</td>\n",
       "      <td>19.79</td>\n",
       "      <td>4.0</td>\n",
       "      <td>ebook</td>\n",
       "      <td>100.0</td>\n",
       "      <td>4.25</td>\n",
       "      <td>...</td>\n",
       "      <td>0</td>\n",
       "      <td>0</td>\n",
       "      <td>0</td>\n",
       "      <td>0</td>\n",
       "      <td>0</td>\n",
       "      <td>0</td>\n",
       "      <td>0</td>\n",
       "      <td>0</td>\n",
       "      <td>0</td>\n",
       "      <td>0</td>\n",
       "    </tr>\n",
       "    <tr>\n",
       "      <th>2496</th>\n",
       "      <td>304.0</td>\n",
       "      <td>1.0</td>\n",
       "      <td>0.72</td>\n",
       "      <td>0.15</td>\n",
       "      <td>0</td>\n",
       "      <td>17.99</td>\n",
       "      <td>2.0</td>\n",
       "      <td>hardcover</td>\n",
       "      <td>0.0</td>\n",
       "      <td>4.26</td>\n",
       "      <td>...</td>\n",
       "      <td>0</td>\n",
       "      <td>0</td>\n",
       "      <td>0</td>\n",
       "      <td>0</td>\n",
       "      <td>1</td>\n",
       "      <td>0</td>\n",
       "      <td>0</td>\n",
       "      <td>0</td>\n",
       "      <td>0</td>\n",
       "      <td>0</td>\n",
       "    </tr>\n",
       "    <tr>\n",
       "      <th>2519</th>\n",
       "      <td>128.0</td>\n",
       "      <td>1.0</td>\n",
       "      <td>0.98</td>\n",
       "      <td>0.54</td>\n",
       "      <td>0</td>\n",
       "      <td>16.00</td>\n",
       "      <td>1.0</td>\n",
       "      <td>paperback</td>\n",
       "      <td>793.0</td>\n",
       "      <td>3.82</td>\n",
       "      <td>...</td>\n",
       "      <td>0</td>\n",
       "      <td>0</td>\n",
       "      <td>0</td>\n",
       "      <td>0</td>\n",
       "      <td>0</td>\n",
       "      <td>0</td>\n",
       "      <td>0</td>\n",
       "      <td>0</td>\n",
       "      <td>0</td>\n",
       "      <td>0</td>\n",
       "    </tr>\n",
       "    <tr>\n",
       "      <th>3352</th>\n",
       "      <td>336.0</td>\n",
       "      <td>1.0</td>\n",
       "      <td>0.52</td>\n",
       "      <td>0.56</td>\n",
       "      <td>0</td>\n",
       "      <td>14.79</td>\n",
       "      <td>5.0</td>\n",
       "      <td>paperback</td>\n",
       "      <td>100.0</td>\n",
       "      <td>4.06</td>\n",
       "      <td>...</td>\n",
       "      <td>0</td>\n",
       "      <td>0</td>\n",
       "      <td>0</td>\n",
       "      <td>0</td>\n",
       "      <td>0</td>\n",
       "      <td>0</td>\n",
       "      <td>0</td>\n",
       "      <td>0</td>\n",
       "      <td>0</td>\n",
       "      <td>0</td>\n",
       "    </tr>\n",
       "    <tr>\n",
       "      <th>2182</th>\n",
       "      <td>336.0</td>\n",
       "      <td>1.0</td>\n",
       "      <td>0.38</td>\n",
       "      <td>0.30</td>\n",
       "      <td>0</td>\n",
       "      <td>24.70</td>\n",
       "      <td>3.0</td>\n",
       "      <td>hardcover</td>\n",
       "      <td>0.0</td>\n",
       "      <td>3.94</td>\n",
       "      <td>...</td>\n",
       "      <td>0</td>\n",
       "      <td>0</td>\n",
       "      <td>0</td>\n",
       "      <td>0</td>\n",
       "      <td>1</td>\n",
       "      <td>0</td>\n",
       "      <td>0</td>\n",
       "      <td>0</td>\n",
       "      <td>0</td>\n",
       "      <td>0</td>\n",
       "    </tr>\n",
       "  </tbody>\n",
       "</table>\n",
       "<p>5 rows × 344 columns</p>\n",
       "</div>"
      ],
      "text/plain": [
       "      NumPages  SagaNumber  RedPerc  BluePerc  BelongsSaga  Price  WordsTitle  \\\n",
       "2720     300.0         2.0     0.49      0.28            1  19.79         4.0   \n",
       "2496     304.0         1.0     0.72      0.15            0  17.99         2.0   \n",
       "2519     128.0         1.0     0.98      0.54            0  16.00         1.0   \n",
       "3352     336.0         1.0     0.52      0.56            0  14.79         5.0   \n",
       "2182     336.0         1.0     0.38      0.30            0  24.70         3.0   \n",
       "\n",
       "     PriceFormat  BookInterest1M  Rating20Days  ...  World History  \\\n",
       "2720       ebook           100.0          4.25  ...              0   \n",
       "2496   hardcover             0.0          4.26  ...              0   \n",
       "2519   paperback           793.0          3.82  ...              0   \n",
       "3352   paperback           100.0          4.06  ...              0   \n",
       "2182   hardcover             0.0          3.94  ...              0   \n",
       "\n",
       "      World War I  World War II  Writing  Young Adult  \\\n",
       "2720            0             0        0            0   \n",
       "2496            0             0        0            1   \n",
       "2519            0             0        0            0   \n",
       "3352            0             0        0            0   \n",
       "2182            0             0        0            1   \n",
       "\n",
       "      Young Adult Contemporary  Young Adult Fantasy  Young Adult Romance  \\\n",
       "2720                         0                    0                    0   \n",
       "2496                         0                    0                    0   \n",
       "2519                         0                    0                    0   \n",
       "3352                         0                    0                    0   \n",
       "2182                         0                    0                    0   \n",
       "\n",
       "      Young Adult Science Fiction  Zombies  \n",
       "2720                            0        0  \n",
       "2496                            0        0  \n",
       "2519                            0        0  \n",
       "3352                            0        0  \n",
       "2182                            0        0  \n",
       "\n",
       "[5 rows x 344 columns]"
      ]
     },
     "execution_count": 9,
     "metadata": {},
     "output_type": "execute_result"
    }
   ],
   "source": [
    "X_test.head()"
   ]
  },
  {
   "cell_type": "markdown",
   "id": "e95ec4d8",
   "metadata": {},
   "source": [
    "### Escalado de variables\n",
    "Escalamos las variables y dividimos en train y test"
   ]
  },
  {
   "cell_type": "code",
   "execution_count": 10,
   "id": "45d051b2",
   "metadata": {},
   "outputs": [],
   "source": [
    "from sklearn.preprocessing import RobustScaler"
   ]
  },
  {
   "cell_type": "code",
   "execution_count": 11,
   "id": "60aacb28",
   "metadata": {},
   "outputs": [],
   "source": [
    "data_scaled = data.copy()\n",
    "X_scaled = data_scaled.drop('Bestseller', axis=1)\n",
    "y_scaled = data_scaled['Bestseller']\n",
    "\n",
    "# Dividimos en train y test\n",
    "X_scaled_train, X_scaled_test, y_scaled_train, y_scaled_test = train_test_split(X_scaled, y_scaled, test_size=TEST_SIZE, stratify=y, random_state=SEED)\n",
    "\n",
    "# Inicializamos RobustScaler\n",
    "scaler = RobustScaler()\n",
    "\n",
    "# Solo lo aplicamos a las variables numéricas\n",
    "# Incluimos 'Zombies' que no hay que escalar porque el RobustScaler ignora la primera columna de la lista \n",
    "# (hemos hecho pruebas)\n",
    "variables_numericas = ['Zombies', 'SagaNumber', 'NumPages', 'RedPerc', 'BluePerc', 'Price', 'WordsTitle', 'BookInterest1M',\n",
    "                     'Rating20Days', 'PrevBestSellAuthor']\n",
    "\n",
    "# Aplicamos el RobustScaler a los datos de entrenamiento y test\n",
    "X_scaled_train[variables_numericas] = scaler.fit_transform(X_scaled_train[variables_numericas])\n",
    "X_scaled_test[variables_numericas] = scaler.transform(X_scaled_test[variables_numericas])"
   ]
  },
  {
   "cell_type": "code",
   "execution_count": 12,
   "id": "cf5403e8",
   "metadata": {
    "scrolled": true
   },
   "outputs": [
    {
     "data": {
      "text/html": [
       "<div>\n",
       "<style scoped>\n",
       "    .dataframe tbody tr th:only-of-type {\n",
       "        vertical-align: middle;\n",
       "    }\n",
       "\n",
       "    .dataframe tbody tr th {\n",
       "        vertical-align: top;\n",
       "    }\n",
       "\n",
       "    .dataframe thead th {\n",
       "        text-align: right;\n",
       "    }\n",
       "</style>\n",
       "<table border=\"1\" class=\"dataframe\">\n",
       "  <thead>\n",
       "    <tr style=\"text-align: right;\">\n",
       "      <th></th>\n",
       "      <th>NumPages</th>\n",
       "      <th>SagaNumber</th>\n",
       "      <th>RedPerc</th>\n",
       "      <th>BluePerc</th>\n",
       "      <th>BelongsSaga</th>\n",
       "      <th>Price</th>\n",
       "      <th>WordsTitle</th>\n",
       "      <th>PriceFormat</th>\n",
       "      <th>BookInterest1M</th>\n",
       "      <th>Rating20Days</th>\n",
       "      <th>...</th>\n",
       "      <th>World History</th>\n",
       "      <th>World War I</th>\n",
       "      <th>World War II</th>\n",
       "      <th>Writing</th>\n",
       "      <th>Young Adult</th>\n",
       "      <th>Young Adult Contemporary</th>\n",
       "      <th>Young Adult Fantasy</th>\n",
       "      <th>Young Adult Romance</th>\n",
       "      <th>Young Adult Science Fiction</th>\n",
       "      <th>Zombies</th>\n",
       "    </tr>\n",
       "  </thead>\n",
       "  <tbody>\n",
       "    <tr>\n",
       "      <th>2720</th>\n",
       "      <td>-0.531250</td>\n",
       "      <td>1.0</td>\n",
       "      <td>0.078947</td>\n",
       "      <td>-0.37500</td>\n",
       "      <td>1</td>\n",
       "      <td>0.391026</td>\n",
       "      <td>0.5</td>\n",
       "      <td>ebook</td>\n",
       "      <td>0.000000</td>\n",
       "      <td>0.20</td>\n",
       "      <td>...</td>\n",
       "      <td>0</td>\n",
       "      <td>0</td>\n",
       "      <td>0</td>\n",
       "      <td>0</td>\n",
       "      <td>0</td>\n",
       "      <td>0</td>\n",
       "      <td>0</td>\n",
       "      <td>0</td>\n",
       "      <td>0</td>\n",
       "      <td>0.0</td>\n",
       "    </tr>\n",
       "    <tr>\n",
       "      <th>2496</th>\n",
       "      <td>-0.489583</td>\n",
       "      <td>0.0</td>\n",
       "      <td>0.684211</td>\n",
       "      <td>-0.78125</td>\n",
       "      <td>0</td>\n",
       "      <td>0.102564</td>\n",
       "      <td>-0.5</td>\n",
       "      <td>hardcover</td>\n",
       "      <td>-0.555556</td>\n",
       "      <td>0.22</td>\n",
       "      <td>...</td>\n",
       "      <td>0</td>\n",
       "      <td>0</td>\n",
       "      <td>0</td>\n",
       "      <td>0</td>\n",
       "      <td>1</td>\n",
       "      <td>0</td>\n",
       "      <td>0</td>\n",
       "      <td>0</td>\n",
       "      <td>0</td>\n",
       "      <td>0.0</td>\n",
       "    </tr>\n",
       "    <tr>\n",
       "      <th>2519</th>\n",
       "      <td>-2.322917</td>\n",
       "      <td>0.0</td>\n",
       "      <td>1.368421</td>\n",
       "      <td>0.43750</td>\n",
       "      <td>0</td>\n",
       "      <td>-0.216346</td>\n",
       "      <td>-1.0</td>\n",
       "      <td>paperback</td>\n",
       "      <td>3.850000</td>\n",
       "      <td>-0.66</td>\n",
       "      <td>...</td>\n",
       "      <td>0</td>\n",
       "      <td>0</td>\n",
       "      <td>0</td>\n",
       "      <td>0</td>\n",
       "      <td>0</td>\n",
       "      <td>0</td>\n",
       "      <td>0</td>\n",
       "      <td>0</td>\n",
       "      <td>0</td>\n",
       "      <td>0.0</td>\n",
       "    </tr>\n",
       "    <tr>\n",
       "      <th>3352</th>\n",
       "      <td>-0.156250</td>\n",
       "      <td>0.0</td>\n",
       "      <td>0.157895</td>\n",
       "      <td>0.50000</td>\n",
       "      <td>0</td>\n",
       "      <td>-0.410256</td>\n",
       "      <td>1.0</td>\n",
       "      <td>paperback</td>\n",
       "      <td>0.000000</td>\n",
       "      <td>-0.18</td>\n",
       "      <td>...</td>\n",
       "      <td>0</td>\n",
       "      <td>0</td>\n",
       "      <td>0</td>\n",
       "      <td>0</td>\n",
       "      <td>0</td>\n",
       "      <td>0</td>\n",
       "      <td>0</td>\n",
       "      <td>0</td>\n",
       "      <td>0</td>\n",
       "      <td>0.0</td>\n",
       "    </tr>\n",
       "    <tr>\n",
       "      <th>2182</th>\n",
       "      <td>-0.156250</td>\n",
       "      <td>0.0</td>\n",
       "      <td>-0.210526</td>\n",
       "      <td>-0.31250</td>\n",
       "      <td>0</td>\n",
       "      <td>1.177885</td>\n",
       "      <td>0.0</td>\n",
       "      <td>hardcover</td>\n",
       "      <td>-0.555556</td>\n",
       "      <td>-0.42</td>\n",
       "      <td>...</td>\n",
       "      <td>0</td>\n",
       "      <td>0</td>\n",
       "      <td>0</td>\n",
       "      <td>0</td>\n",
       "      <td>1</td>\n",
       "      <td>0</td>\n",
       "      <td>0</td>\n",
       "      <td>0</td>\n",
       "      <td>0</td>\n",
       "      <td>0.0</td>\n",
       "    </tr>\n",
       "  </tbody>\n",
       "</table>\n",
       "<p>5 rows × 344 columns</p>\n",
       "</div>"
      ],
      "text/plain": [
       "      NumPages  SagaNumber   RedPerc  BluePerc  BelongsSaga     Price  \\\n",
       "2720 -0.531250         1.0  0.078947  -0.37500            1  0.391026   \n",
       "2496 -0.489583         0.0  0.684211  -0.78125            0  0.102564   \n",
       "2519 -2.322917         0.0  1.368421   0.43750            0 -0.216346   \n",
       "3352 -0.156250         0.0  0.157895   0.50000            0 -0.410256   \n",
       "2182 -0.156250         0.0 -0.210526  -0.31250            0  1.177885   \n",
       "\n",
       "      WordsTitle PriceFormat  BookInterest1M  Rating20Days  ...  \\\n",
       "2720         0.5       ebook        0.000000          0.20  ...   \n",
       "2496        -0.5   hardcover       -0.555556          0.22  ...   \n",
       "2519        -1.0   paperback        3.850000         -0.66  ...   \n",
       "3352         1.0   paperback        0.000000         -0.18  ...   \n",
       "2182         0.0   hardcover       -0.555556         -0.42  ...   \n",
       "\n",
       "      World History  World War I  World War II  Writing  Young Adult  \\\n",
       "2720              0            0             0        0            0   \n",
       "2496              0            0             0        0            1   \n",
       "2519              0            0             0        0            0   \n",
       "3352              0            0             0        0            0   \n",
       "2182              0            0             0        0            1   \n",
       "\n",
       "      Young Adult Contemporary  Young Adult Fantasy  Young Adult Romance  \\\n",
       "2720                         0                    0                    0   \n",
       "2496                         0                    0                    0   \n",
       "2519                         0                    0                    0   \n",
       "3352                         0                    0                    0   \n",
       "2182                         0                    0                    0   \n",
       "\n",
       "      Young Adult Science Fiction  Zombies  \n",
       "2720                            0      0.0  \n",
       "2496                            0      0.0  \n",
       "2519                            0      0.0  \n",
       "3352                            0      0.0  \n",
       "2182                            0      0.0  \n",
       "\n",
       "[5 rows x 344 columns]"
      ]
     },
     "execution_count": 12,
     "metadata": {},
     "output_type": "execute_result"
    }
   ],
   "source": [
    "X_scaled_test.head()"
   ]
  },
  {
   "cell_type": "markdown",
   "id": "3d8f0b38",
   "metadata": {},
   "source": [
    "### Transformación de los datos de train"
   ]
  },
  {
   "cell_type": "markdown",
   "id": "a8a8d444",
   "metadata": {},
   "source": [
    "Como nuestra variable respuesta está desbalanceada, tenemos que:\n",
    "1. Aplicar SMOTENC a los datos de entrenamiento para conseguir una proporción 50/50 y  un buen rendimiento del modelo. \n",
    "2. Redondear las variables que deben ser enteras pero se han convertido en decimales tras esta transformación\n",
    "3. Aplicar OHE a PriceFormat (se hace después para que una fila no tenga múltiples valores de PriceFormat por el SMOTENC)"
   ]
  },
  {
   "cell_type": "code",
   "execution_count": 13,
   "id": "109bee5c",
   "metadata": {},
   "outputs": [],
   "source": [
    "from imblearn.over_sampling import SMOTENC\n",
    "import numpy as np"
   ]
  },
  {
   "cell_type": "code",
   "execution_count": 14,
   "id": "54f67389",
   "metadata": {},
   "outputs": [],
   "source": [
    "# Columnas de los géneros\n",
    "columnas_generos = X_scaled_train.columns[14:]\n",
    "\n",
    "# Columnas categóricas\n",
    "categoricalColumns = [\"BelongsSaga\", \"PriceFormat\", 'HasTwitter', 'HasWikipedia'] + list(columnas_generos)\n",
    "\n",
    "# Definimos la transformación smote\n",
    "smote = SMOTENC(categorical_features = categoricalColumns, random_state = SEED)"
   ]
  },
  {
   "cell_type": "code",
   "execution_count": 15,
   "id": "948f187c",
   "metadata": {},
   "outputs": [],
   "source": [
    "def redondearVariables(X):\n",
    "    variablesRedondeo = [\"NumPages\", \"SagaNumber\", \"WordsTitle\"]\n",
    "    # Itera sobre las columnas especificadas y redondea sus valores\n",
    "    for v in variablesRedondeo:\n",
    "        X[v] = np.round(X[v])\n",
    "    return X"
   ]
  },
  {
   "cell_type": "code",
   "execution_count": 16,
   "id": "78a3a946",
   "metadata": {},
   "outputs": [],
   "source": [
    "def codificarPriceFormat(df):\n",
    "    return pd.get_dummies(df, columns=['PriceFormat'], dtype=int)"
   ]
  },
  {
   "cell_type": "code",
   "execution_count": 17,
   "id": "3f7c8ee7",
   "metadata": {},
   "outputs": [],
   "source": [
    "def transformarTrain(X, y):\n",
    "    X_t, y_t = smote.fit_resample(X, y)\n",
    "    X_t = redondearVariables(X_t)\n",
    "    X_t = codificarPriceFormat(X_t)\n",
    "    return X_t, y_t"
   ]
  },
  {
   "cell_type": "markdown",
   "id": "c7b877e0",
   "metadata": {},
   "source": [
    "Aplicamos las transformaciones a los datos de train"
   ]
  },
  {
   "cell_type": "code",
   "execution_count": 18,
   "id": "c2a88eac",
   "metadata": {},
   "outputs": [],
   "source": [
    "X_train, y_train = transformarTrain(X_train, y_train)\n",
    "X_scaled_train, y_scaled_train = transformarTrain(X_scaled_train, y_scaled_train)"
   ]
  },
  {
   "cell_type": "markdown",
   "id": "25a93682",
   "metadata": {},
   "source": [
    "### Transformación de los datos de test"
   ]
  },
  {
   "cell_type": "markdown",
   "id": "3561ff78",
   "metadata": {},
   "source": [
    "Aplicamos OHE a PriceFormat para transformar los datos de test."
   ]
  },
  {
   "cell_type": "code",
   "execution_count": 19,
   "id": "58e6ab5c",
   "metadata": {},
   "outputs": [],
   "source": [
    "X_test = codificarPriceFormat(X_test)\n",
    "X_scaled_test = codificarPriceFormat(X_scaled_test)"
   ]
  },
  {
   "cell_type": "markdown",
   "id": "f6d723cc",
   "metadata": {},
   "source": [
    "### Selección de variables"
   ]
  },
  {
   "cell_type": "markdown",
   "id": "66264a85",
   "metadata": {},
   "source": [
    "Nos guardamos la lista de variables de los modelos para los que se ha aplicado selección de variables."
   ]
  },
  {
   "cell_type": "code",
   "execution_count": 20,
   "id": "2e0949dc",
   "metadata": {},
   "outputs": [
    {
     "name": "stdout",
     "output_type": "stream",
     "text": [
      "Archivo datosEntrenamientoRL.parquet guardado en: ../data/clean/datosEntrenamientoRL.parquet\n"
     ]
    }
   ],
   "source": [
    "drive.descargar_archivos_concretos('datosEntrenamientoRL.parquet', '../drive')\n",
    "dataRL = pd.read_parquet('../data/clean/datosEntrenamientoRL.parquet')"
   ]
  },
  {
   "cell_type": "code",
   "execution_count": 21,
   "id": "90f8cfce",
   "metadata": {
    "scrolled": true
   },
   "outputs": [],
   "source": [
    "dataRL = codificarPriceFormat(dataRL)\n",
    "varRL = list(dataRL.columns)\n",
    "if 'Bestseller' in varRL:\n",
    "    varRL.remove('Bestseller')"
   ]
  },
  {
   "cell_type": "markdown",
   "id": "79ece8da",
   "metadata": {},
   "source": [
    "## Recuperación de modelos de mlflow"
   ]
  },
  {
   "cell_type": "markdown",
   "id": "9a8016a7",
   "metadata": {},
   "source": [
    "En primer lugar descargamos nuestras bases de datos de Google Drive"
   ]
  },
  {
   "cell_type": "code",
   "execution_count": 22,
   "id": "3f751606",
   "metadata": {},
   "outputs": [],
   "source": [
    "import os\n",
    "import sys\n",
    "\n",
    "# Añadimos la carpeta 'drive' al path\n",
    "ruta_carpeta_drive = os.path.abspath('../../drive')\n",
    "if ruta_carpeta_drive not in sys.path:\n",
    "    sys.path.insert(0, ruta_carpeta_drive)\n",
    "\n",
    "import descarga_archivos_GD\n",
    "import drive"
   ]
  },
  {
   "cell_type": "code",
   "execution_count": 23,
   "id": "f1313871",
   "metadata": {},
   "outputs": [],
   "source": [
    "# Nombres de los archivos de las bases de datos en archivos_info.txt\n",
    "NOMBRES_DBS = ['RL_runs.db', 'RF_runs.db', 'MLP_runs.db']"
   ]
  },
  {
   "cell_type": "code",
   "execution_count": 24,
   "id": "52585204",
   "metadata": {},
   "outputs": [
    {
     "name": "stdout",
     "output_type": "stream",
     "text": [
      "Archivo RL_runs.db guardado en: ./databases/RL_runs.db\n",
      "Archivo RF_runs.db guardado en: ./databases/RF_runs.db\n",
      "Archivo MLP_runs.db guardado en: ./databases/MLP_runs.db\n"
     ]
    }
   ],
   "source": [
    "drive.descargar_archivos_concretos(NOMBRES_DBS, '../drive')"
   ]
  },
  {
   "cell_type": "code",
   "execution_count": 25,
   "id": "5dadbc67",
   "metadata": {},
   "outputs": [],
   "source": [
    "import mlflow.pyfunc\n",
    "import sqlite3"
   ]
  },
  {
   "cell_type": "markdown",
   "id": "353d80f6",
   "metadata": {},
   "source": [
    "* Cargamos los parámetros de cada modelo candidato con mlflow\n",
    "* Creamos el modelo correspondiente con esos parametros\n",
    "* Entrenamos el modelo con los datos correspondientes (tras aplicar las transformaciones necesarias a los datos en cada caso)"
   ]
  },
  {
   "cell_type": "code",
   "execution_count": 26,
   "id": "40e1d45c",
   "metadata": {},
   "outputs": [],
   "source": [
    "# Función para cargar los hiperparámetros de un modelo\n",
    "\n",
    "def load_model_from_db(database_name, run_id):\n",
    "    \"\"\"Dada una base de datos de SQLite y un Run ID devuelve los parámetros del modelo\"\"\"\n",
    "\n",
    "    # Ruta completa de la base de datos en la carpeta \"databases\"\n",
    "    db_path = os.path.join('databases', database_name)\n",
    "\n",
    "    # Configuramos la URI del seguimiento de MLflow para que apunte a la base de datos SQLite\n",
    "    mlflow.set_tracking_uri(f\"sqlite:///{db_path}\")\n",
    "\n",
    "    # Conectamos con la base de datos SQLite\n",
    "    conn = sqlite3.connect(db_path)\n",
    "    \n",
    "    # Obtenemos los hiperparámetros del modelo\n",
    "    query = f\"SELECT * FROM params WHERE run_uuid = '{run_id}'\"\n",
    "    params = conn.execute(query).fetchall()\n",
    "    model_params = {param[0]: param[1] for param in params}\n",
    "\n",
    "    return model_params"
   ]
  },
  {
   "cell_type": "code",
   "execution_count": 27,
   "id": "61ccc786",
   "metadata": {},
   "outputs": [],
   "source": [
    "def clean_params(params):\n",
    "    cleaned_params = {}\n",
    "    for key, value in params.items():\n",
    "        # Remove the 'classifier__' prefix from the key\n",
    "        cleaned_key = key.replace('classifier__', '')\n",
    "        \n",
    "        # Convert specific string values to appropriate types\n",
    "        if value.lower() == 'true':\n",
    "            cleaned_params[cleaned_key] = True\n",
    "        elif value.lower() == 'false':\n",
    "            cleaned_params[cleaned_key] = False\n",
    "        else:\n",
    "            # Check if the value is in the form of a tuple\n",
    "            if value.startswith('(') and value.endswith(')'):\n",
    "                try:\n",
    "                    # Convert the string representation of tuple to a tuple\n",
    "                    tuple_value = tuple(map(int, value.strip('()').split(',')))\n",
    "                    cleaned_params[cleaned_key] = tuple_value\n",
    "                except ValueError:\n",
    "                    cleaned_params[cleaned_key] = value\n",
    "            else:\n",
    "                # Try converting the value to a float\n",
    "                try:\n",
    "                    float_value = float(value)\n",
    "                    # Convert to int if the float value has no decimals\n",
    "                    if float_value.is_integer():\n",
    "                        cleaned_params[cleaned_key] = int(float_value)\n",
    "                    else:\n",
    "                        cleaned_params[cleaned_key] = float_value\n",
    "                # If conversion fails, keep the original value\n",
    "                except ValueError:\n",
    "                    cleaned_params[cleaned_key] = value\n",
    "    return cleaned_params"
   ]
  },
  {
   "cell_type": "markdown",
   "id": "b244f82e",
   "metadata": {},
   "source": [
    "**Regresión logística**"
   ]
  },
  {
   "cell_type": "code",
   "execution_count": 28,
   "id": "c15723a8",
   "metadata": {},
   "outputs": [],
   "source": [
    "from sklearn.linear_model import LogisticRegression"
   ]
  },
  {
   "cell_type": "code",
   "execution_count": 29,
   "id": "7b48c8f5",
   "metadata": {
    "scrolled": true
   },
   "outputs": [
    {
     "data": {
      "text/plain": [
       "LogisticRegression(C=0.01, fit_intercept=False, l1_ratio=0.3333333333333333,\n",
       "                   max_iter=2000, penalty='elasticnet', random_state=22,\n",
       "                   solver='saga')"
      ]
     },
     "execution_count": 29,
     "metadata": {},
     "output_type": "execute_result"
    }
   ],
   "source": [
    "# Definimos la base de datos\n",
    "rl_database_name = 'RL_runs.db'\n",
    "rl_run_id = 'd98ac0232b4549faa74cb9352d1be3cf'\n",
    "\n",
    "# Cargamos los parámetros\n",
    "rl_params = load_model_from_db(rl_database_name, rl_run_id)\n",
    "\n",
    "# Creamos el modelo\n",
    "RL_model = LogisticRegression(**clean_params(rl_params), random_state = SEED)\n",
    "\n",
    "# Entrenamos el modelo\n",
    "RL_model.fit(X_scaled_train[varRL], y_scaled_train)\n",
    "RL_model"
   ]
  },
  {
   "cell_type": "markdown",
   "id": "5885f716",
   "metadata": {},
   "source": [
    "**Random Forest**"
   ]
  },
  {
   "cell_type": "code",
   "execution_count": 30,
   "id": "a716391b",
   "metadata": {},
   "outputs": [],
   "source": [
    "from sklearn.ensemble import RandomForestClassifier"
   ]
  },
  {
   "cell_type": "code",
   "execution_count": 31,
   "id": "c899290a",
   "metadata": {
    "scrolled": false
   },
   "outputs": [
    {
     "data": {
      "text/plain": [
       "RandomForestClassifier(max_depth=10, random_state=22)"
      ]
     },
     "execution_count": 31,
     "metadata": {},
     "output_type": "execute_result"
    }
   ],
   "source": [
    "# Definimos la base de datos\n",
    "rf_database_name = 'RF_runs.db'\n",
    "rf_run_id = 'ea88379951384079b166f5f414b2f65b'\n",
    "\n",
    "# Cargamos los parámetros\n",
    "rf_params = load_model_from_db(rf_database_name, rf_run_id)\n",
    "\n",
    "# Creamos el modelo\n",
    "RF_model = RandomForestClassifier(**clean_params(rf_params), random_state = SEED)\n",
    "\n",
    "# Entrenamos el modelo\n",
    "RF_model.fit(X_train, y_train)\n",
    "RF_model"
   ]
  },
  {
   "cell_type": "markdown",
   "id": "69a7a5b7",
   "metadata": {},
   "source": [
    "Los parámetros elegidos del modelo que no aparecen en la tarjeta es porque coinciden con los parámetros por defecto."
   ]
  },
  {
   "cell_type": "markdown",
   "id": "3b66ab39",
   "metadata": {},
   "source": [
    "**Perceptrón multicapa (MLP)**"
   ]
  },
  {
   "cell_type": "code",
   "execution_count": 32,
   "id": "f1dcbd93",
   "metadata": {},
   "outputs": [],
   "source": [
    "from sklearn.neural_network import MLPClassifier"
   ]
  },
  {
   "cell_type": "code",
   "execution_count": 33,
   "id": "c55db8b3",
   "metadata": {},
   "outputs": [
    {
     "name": "stderr",
     "output_type": "stream",
     "text": [
      "/Users/javimartinfuentes/opt/anaconda3/lib/python3.9/site-packages/sklearn/base.py:450: UserWarning: X does not have valid feature names, but MLPClassifier was fitted with feature names\n",
      "  warnings.warn(\n",
      "/Users/javimartinfuentes/opt/anaconda3/lib/python3.9/site-packages/sklearn/base.py:450: UserWarning: X does not have valid feature names, but MLPClassifier was fitted with feature names\n",
      "  warnings.warn(\n",
      "/Users/javimartinfuentes/opt/anaconda3/lib/python3.9/site-packages/sklearn/base.py:450: UserWarning: X does not have valid feature names, but MLPClassifier was fitted with feature names\n",
      "  warnings.warn(\n",
      "/Users/javimartinfuentes/opt/anaconda3/lib/python3.9/site-packages/sklearn/base.py:450: UserWarning: X does not have valid feature names, but MLPClassifier was fitted with feature names\n",
      "  warnings.warn(\n",
      "/Users/javimartinfuentes/opt/anaconda3/lib/python3.9/site-packages/sklearn/base.py:450: UserWarning: X does not have valid feature names, but MLPClassifier was fitted with feature names\n",
      "  warnings.warn(\n",
      "/Users/javimartinfuentes/opt/anaconda3/lib/python3.9/site-packages/sklearn/base.py:450: UserWarning: X does not have valid feature names, but MLPClassifier was fitted with feature names\n",
      "  warnings.warn(\n",
      "/Users/javimartinfuentes/opt/anaconda3/lib/python3.9/site-packages/sklearn/base.py:450: UserWarning: X does not have valid feature names, but MLPClassifier was fitted with feature names\n",
      "  warnings.warn(\n",
      "/Users/javimartinfuentes/opt/anaconda3/lib/python3.9/site-packages/sklearn/base.py:450: UserWarning: X does not have valid feature names, but MLPClassifier was fitted with feature names\n",
      "  warnings.warn(\n",
      "/Users/javimartinfuentes/opt/anaconda3/lib/python3.9/site-packages/sklearn/base.py:450: UserWarning: X does not have valid feature names, but MLPClassifier was fitted with feature names\n",
      "  warnings.warn(\n",
      "/Users/javimartinfuentes/opt/anaconda3/lib/python3.9/site-packages/sklearn/base.py:450: UserWarning: X does not have valid feature names, but MLPClassifier was fitted with feature names\n",
      "  warnings.warn(\n",
      "/Users/javimartinfuentes/opt/anaconda3/lib/python3.9/site-packages/sklearn/base.py:450: UserWarning: X does not have valid feature names, but MLPClassifier was fitted with feature names\n",
      "  warnings.warn(\n",
      "/Users/javimartinfuentes/opt/anaconda3/lib/python3.9/site-packages/sklearn/base.py:450: UserWarning: X does not have valid feature names, but MLPClassifier was fitted with feature names\n",
      "  warnings.warn(\n",
      "/Users/javimartinfuentes/opt/anaconda3/lib/python3.9/site-packages/sklearn/base.py:450: UserWarning: X does not have valid feature names, but MLPClassifier was fitted with feature names\n",
      "  warnings.warn(\n",
      "/Users/javimartinfuentes/opt/anaconda3/lib/python3.9/site-packages/sklearn/base.py:450: UserWarning: X does not have valid feature names, but MLPClassifier was fitted with feature names\n",
      "  warnings.warn(\n",
      "/Users/javimartinfuentes/opt/anaconda3/lib/python3.9/site-packages/sklearn/base.py:450: UserWarning: X does not have valid feature names, but MLPClassifier was fitted with feature names\n",
      "  warnings.warn(\n",
      "/Users/javimartinfuentes/opt/anaconda3/lib/python3.9/site-packages/sklearn/base.py:450: UserWarning: X does not have valid feature names, but MLPClassifier was fitted with feature names\n",
      "  warnings.warn(\n",
      "/Users/javimartinfuentes/opt/anaconda3/lib/python3.9/site-packages/sklearn/base.py:450: UserWarning: X does not have valid feature names, but MLPClassifier was fitted with feature names\n",
      "  warnings.warn(\n",
      "/Users/javimartinfuentes/opt/anaconda3/lib/python3.9/site-packages/sklearn/base.py:450: UserWarning: X does not have valid feature names, but MLPClassifier was fitted with feature names\n",
      "  warnings.warn(\n",
      "/Users/javimartinfuentes/opt/anaconda3/lib/python3.9/site-packages/sklearn/base.py:450: UserWarning: X does not have valid feature names, but MLPClassifier was fitted with feature names\n",
      "  warnings.warn(\n"
     ]
    },
    {
     "data": {
      "text/plain": [
       "MLPClassifier(activation='logistic', alpha=0.9517679547364497,\n",
       "              early_stopping=True, hidden_layer_sizes=(200, 100),\n",
       "              learning_rate='adaptive', learning_rate_init=0.03492366438019531,\n",
       "              random_state=22)"
      ]
     },
     "execution_count": 33,
     "metadata": {},
     "output_type": "execute_result"
    }
   ],
   "source": [
    "# Definimos la base de datos\n",
    "mlp_database_name = 'MLP_runs.db'\n",
    "mlp_run_id = 'a6e5a4cdffc94b2097820ba4e545f13d'\n",
    "\n",
    "# Cargamos los parámetros\n",
    "mlp_params = load_model_from_db(mlp_database_name, mlp_run_id)\n",
    "\n",
    "# Creamos el modelo\n",
    "MLP_model = MLPClassifier(**clean_params(mlp_params), random_state = SEED)\n",
    "\n",
    "# Entrenamos el modelo\n",
    "MLP_model.fit(X_scaled_train, y_scaled_train)\n",
    "MLP_model"
   ]
  },
  {
   "cell_type": "markdown",
   "id": "fe99a25d",
   "metadata": {},
   "source": [
    "# Análisis"
   ]
  },
  {
   "cell_type": "markdown",
   "id": "79e0416e",
   "metadata": {},
   "source": [
    "Calculamos las predicciones de cada modelo con los datos de test correspondientes"
   ]
  },
  {
   "cell_type": "code",
   "execution_count": 34,
   "id": "52f2043c",
   "metadata": {},
   "outputs": [],
   "source": [
    "RL_pred = RL_model.predict(X_scaled_test[varRL])\n",
    "RF_pred = RF_model.predict(X_test)\n",
    "MLP_pred = MLP_model.predict(X_scaled_test)\n",
    "\n",
    "# Lista de modelos\n",
    "models = ['RL', 'RF', 'MLP']\n",
    "\n",
    "# Lista de predicciones de cada modelo\n",
    "predictions = [RL_pred, RF_pred, MLP_pred]"
   ]
  },
  {
   "cell_type": "markdown",
   "id": "bce68e12",
   "metadata": {},
   "source": [
    "## Análisis balanced_accuracy"
   ]
  },
  {
   "cell_type": "code",
   "execution_count": 35,
   "id": "a59f3deb",
   "metadata": {},
   "outputs": [],
   "source": [
    "from sklearn.metrics import balanced_accuracy_score"
   ]
  },
  {
   "cell_type": "code",
   "execution_count": 36,
   "id": "49e9f62c",
   "metadata": {},
   "outputs": [
    {
     "data": {
      "text/html": [
       "<div>\n",
       "<style scoped>\n",
       "    .dataframe tbody tr th:only-of-type {\n",
       "        vertical-align: middle;\n",
       "    }\n",
       "\n",
       "    .dataframe tbody tr th {\n",
       "        vertical-align: top;\n",
       "    }\n",
       "\n",
       "    .dataframe thead th {\n",
       "        text-align: right;\n",
       "    }\n",
       "</style>\n",
       "<table border=\"1\" class=\"dataframe\">\n",
       "  <thead>\n",
       "    <tr style=\"text-align: right;\">\n",
       "      <th></th>\n",
       "      <th>Model</th>\n",
       "      <th>Balanced Accuracy</th>\n",
       "    </tr>\n",
       "  </thead>\n",
       "  <tbody>\n",
       "    <tr>\n",
       "      <th>0</th>\n",
       "      <td>RL</td>\n",
       "      <td>0.770767</td>\n",
       "    </tr>\n",
       "    <tr>\n",
       "      <th>1</th>\n",
       "      <td>RF</td>\n",
       "      <td>0.754088</td>\n",
       "    </tr>\n",
       "    <tr>\n",
       "      <th>2</th>\n",
       "      <td>MLP</td>\n",
       "      <td>0.795033</td>\n",
       "    </tr>\n",
       "  </tbody>\n",
       "</table>\n",
       "</div>"
      ],
      "text/plain": [
       "  Model  Balanced Accuracy\n",
       "0    RL           0.770767\n",
       "1    RF           0.754088\n",
       "2   MLP           0.795033"
      ]
     },
     "execution_count": 36,
     "metadata": {},
     "output_type": "execute_result"
    }
   ],
   "source": [
    "# Lista para almacenar los resultados\n",
    "balanced_accuracy_results = []\n",
    "\n",
    "# Calcular balanced accuracy para cada modelo\n",
    "for model, prediction in zip(models, predictions):\n",
    "    balanced_acc = balanced_accuracy_score(y_test, prediction)\n",
    "    balanced_accuracy_results.append((model, balanced_acc))\n",
    "\n",
    "# Crear un DataFrame con los resultados\n",
    "df_bal_acc = pd.DataFrame(balanced_accuracy_results, columns=['Model', 'Balanced Accuracy'])\n",
    "df_bal_acc"
   ]
  },
  {
   "cell_type": "markdown",
   "id": "57f05203",
   "metadata": {},
   "source": [
    "## Análisis especificidad y sensibilidad"
   ]
  },
  {
   "cell_type": "code",
   "execution_count": 37,
   "id": "f69bb977",
   "metadata": {},
   "outputs": [],
   "source": [
    "from sklearn.metrics import confusion_matrix\n",
    "import seaborn as sns\n",
    "import matplotlib.pyplot as plt"
   ]
  },
  {
   "cell_type": "code",
   "execution_count": 38,
   "id": "a78a3786",
   "metadata": {},
   "outputs": [],
   "source": [
    "def plot_confusion_matrix(cm, model_name):\n",
    "    \"\"\"\n",
    "    Plots the confusion matrix using seaborn's heatmap.\n",
    "    \n",
    "    Parameters:\n",
    "        cm (array): Confusion matrix.\n",
    "        model_name (str): Name of the model.\n",
    "    \"\"\"\n",
    "    plt.figure(figsize=(3, 2))\n",
    "    sns.heatmap(cm, annot=True, cmap='Reds', fmt='g', cbar=False)\n",
    "    plt.xlabel('Predicted')\n",
    "    plt.ylabel('Actual')\n",
    "    plt.title(f'Confusion Matrix for {model_name}')\n",
    "    plt.show()"
   ]
  },
  {
   "cell_type": "code",
   "execution_count": 39,
   "id": "83b6428c",
   "metadata": {},
   "outputs": [
    {
     "data": {
      "image/png": "[encoded data removed]",
      "text/plain": [
       "<Figure size 300x200 with 1 Axes>"
      ]
     },
     "metadata": {},
     "output_type": "display_data"
    },
    {
     "data": {
      "image/png": "[encoded data removed]",
      "text/plain": [
       "<Figure size 300x200 with 1 Axes>"
      ]
     },
     "metadata": {},
     "output_type": "display_data"
    },
    {
     "data": {
      "image/png": "[encoded data removed]",
      "text/plain": [
       "<Figure size 300x200 with 1 Axes>"
      ]
     },
     "metadata": {},
     "output_type": "display_data"
    }
   ],
   "source": [
    "specificity_results = []\n",
    "sensitivity_results = []\n",
    "\n",
    "# Calcular especificidad y sensibilidad para cada modelo\n",
    "for model, prediction in zip(models, predictions):\n",
    "    # Calcular la matriz de confusión\n",
    "    tn, fp, fn, tp = confusion_matrix(y_test, prediction).ravel()\n",
    "    \n",
    "    # Print confusion matrix\n",
    "    cm = confusion_matrix(y_test, prediction)\n",
    "    plot_confusion_matrix(cm, model)\n",
    "    \n",
    "    # Calcular especificidad y sensibilidad\n",
    "    specificity = tn / (tn + fp)\n",
    "    sensitivity = tp / (tp + fn)\n",
    "    \n",
    "    # Agregar los resultados a las listas\n",
    "    specificity_results.append(specificity)\n",
    "    sensitivity_results.append(sensitivity)\n",
    "\n",
    "# Crear un DataFrame con los resultados de especificidad\n",
    "df_specificity = pd.DataFrame({'Model': models, 'Specificity': specificity_results})\n",
    "\n",
    "# Crear un DataFrame con los resultados de sensibilidad\n",
    "df_sensitivity = pd.DataFrame({'Model': models, 'Sensitivity': sensitivity_results})"
   ]
  },
  {
   "cell_type": "code",
   "execution_count": 40,
   "id": "476198cd",
   "metadata": {},
   "outputs": [
    {
     "name": "stdout",
     "output_type": "stream",
     "text": [
      "Especificidad: (no best sellers clasificados correctamente)\n"
     ]
    },
    {
     "data": {
      "text/html": [
       "<div>\n",
       "<style scoped>\n",
       "    .dataframe tbody tr th:only-of-type {\n",
       "        vertical-align: middle;\n",
       "    }\n",
       "\n",
       "    .dataframe tbody tr th {\n",
       "        vertical-align: top;\n",
       "    }\n",
       "\n",
       "    .dataframe thead th {\n",
       "        text-align: right;\n",
       "    }\n",
       "</style>\n",
       "<table border=\"1\" class=\"dataframe\">\n",
       "  <thead>\n",
       "    <tr style=\"text-align: right;\">\n",
       "      <th></th>\n",
       "      <th>Model</th>\n",
       "      <th>Specificity</th>\n",
       "    </tr>\n",
       "  </thead>\n",
       "  <tbody>\n",
       "    <tr>\n",
       "      <th>0</th>\n",
       "      <td>RL</td>\n",
       "      <td>0.788523</td>\n",
       "    </tr>\n",
       "    <tr>\n",
       "      <th>1</th>\n",
       "      <td>RF</td>\n",
       "      <td>0.929862</td>\n",
       "    </tr>\n",
       "    <tr>\n",
       "      <th>2</th>\n",
       "      <td>MLP</td>\n",
       "      <td>0.831031</td>\n",
       "    </tr>\n",
       "  </tbody>\n",
       "</table>\n",
       "</div>"
      ],
      "text/plain": [
       "  Model  Specificity\n",
       "0    RL     0.788523\n",
       "1    RF     0.929862\n",
       "2   MLP     0.831031"
      ]
     },
     "execution_count": 40,
     "metadata": {},
     "output_type": "execute_result"
    }
   ],
   "source": [
    "print(\"Especificidad: (no best sellers clasificados correctamente)\")\n",
    "df_specificity"
   ]
  },
  {
   "cell_type": "code",
   "execution_count": 41,
   "id": "4013bb6e",
   "metadata": {
    "scrolled": true
   },
   "outputs": [
    {
     "name": "stdout",
     "output_type": "stream",
     "text": [
      "Sensibilidad: (best sellers clasificados correctamente)\n"
     ]
    },
    {
     "data": {
      "text/html": [
       "<div>\n",
       "<style scoped>\n",
       "    .dataframe tbody tr th:only-of-type {\n",
       "        vertical-align: middle;\n",
       "    }\n",
       "\n",
       "    .dataframe tbody tr th {\n",
       "        vertical-align: top;\n",
       "    }\n",
       "\n",
       "    .dataframe thead th {\n",
       "        text-align: right;\n",
       "    }\n",
       "</style>\n",
       "<table border=\"1\" class=\"dataframe\">\n",
       "  <thead>\n",
       "    <tr style=\"text-align: right;\">\n",
       "      <th></th>\n",
       "      <th>Model</th>\n",
       "      <th>Sensitivity</th>\n",
       "    </tr>\n",
       "  </thead>\n",
       "  <tbody>\n",
       "    <tr>\n",
       "      <th>0</th>\n",
       "      <td>RL</td>\n",
       "      <td>0.753012</td>\n",
       "    </tr>\n",
       "    <tr>\n",
       "      <th>1</th>\n",
       "      <td>RF</td>\n",
       "      <td>0.578313</td>\n",
       "    </tr>\n",
       "    <tr>\n",
       "      <th>2</th>\n",
       "      <td>MLP</td>\n",
       "      <td>0.759036</td>\n",
       "    </tr>\n",
       "  </tbody>\n",
       "</table>\n",
       "</div>"
      ],
      "text/plain": [
       "  Model  Sensitivity\n",
       "0    RL     0.753012\n",
       "1    RF     0.578313\n",
       "2   MLP     0.759036"
      ]
     },
     "execution_count": 41,
     "metadata": {},
     "output_type": "execute_result"
    }
   ],
   "source": [
    "print(\"Sensibilidad: (best sellers clasificados correctamente)\")\n",
    "df_sensitivity"
   ]
  },
  {
   "cell_type": "markdown",
   "id": "5a026a8b",
   "metadata": {},
   "source": [
    "**Comparación métricas modelos**"
   ]
  },
  {
   "cell_type": "code",
   "execution_count": 42,
   "id": "95aff6a5",
   "metadata": {},
   "outputs": [
    {
     "data": {
      "text/html": [
       "<div>\n",
       "<style scoped>\n",
       "    .dataframe tbody tr th:only-of-type {\n",
       "        vertical-align: middle;\n",
       "    }\n",
       "\n",
       "    .dataframe tbody tr th {\n",
       "        vertical-align: top;\n",
       "    }\n",
       "\n",
       "    .dataframe thead th {\n",
       "        text-align: right;\n",
       "    }\n",
       "</style>\n",
       "<table border=\"1\" class=\"dataframe\">\n",
       "  <thead>\n",
       "    <tr style=\"text-align: right;\">\n",
       "      <th></th>\n",
       "      <th>Model</th>\n",
       "      <th>Balanced Accuracy</th>\n",
       "      <th>Specificity</th>\n",
       "      <th>Sensitivity</th>\n",
       "    </tr>\n",
       "  </thead>\n",
       "  <tbody>\n",
       "    <tr>\n",
       "      <th>0</th>\n",
       "      <td>RL</td>\n",
       "      <td>0.770767</td>\n",
       "      <td>0.788523</td>\n",
       "      <td>0.753012</td>\n",
       "    </tr>\n",
       "    <tr>\n",
       "      <th>1</th>\n",
       "      <td>RF</td>\n",
       "      <td>0.754088</td>\n",
       "      <td>0.929862</td>\n",
       "      <td>0.578313</td>\n",
       "    </tr>\n",
       "    <tr>\n",
       "      <th>2</th>\n",
       "      <td>MLP</td>\n",
       "      <td>0.795033</td>\n",
       "      <td>0.831031</td>\n",
       "      <td>0.759036</td>\n",
       "    </tr>\n",
       "  </tbody>\n",
       "</table>\n",
       "</div>"
      ],
      "text/plain": [
       "  Model  Balanced Accuracy  Specificity  Sensitivity\n",
       "0    RL           0.770767     0.788523     0.753012\n",
       "1    RF           0.754088     0.929862     0.578313\n",
       "2   MLP           0.795033     0.831031     0.759036"
      ]
     },
     "execution_count": 42,
     "metadata": {},
     "output_type": "execute_result"
    }
   ],
   "source": [
    "df_results = pd.merge(df_bal_acc, df_specificity)\n",
    "df_results = pd.merge(df_results, df_sensitivity)\n",
    "df_results"
   ]
  },
  {
   "cell_type": "markdown",
   "id": "c6f9398e",
   "metadata": {},
   "source": [
    "**Conclusiones**\n",
    "\n",
    "Similitudes\n",
    "* Tasa de ciertos balanceada superior al 75%\n",
    "* Especificidad es la mejor métrica (superior al 78%)\n",
    "* Sensibilidad es la peor métrica (superior el 57%)\n",
    "\n",
    "Diferencias\n",
    "* MLP es superior a los otros dos ligeramente en tasa de ciertos balanceada\n",
    "* MLP es superior a RF en más de un 15% en sensibilidad\n",
    "* MLP es ligeramente superior a RL en sensibilidad\n",
    "* RF es bastante superior a los otros en especificidad (alrededor de 10%) pero con una sensibilidad pésima\n",
    "\n",
    "Con este análisis consideramos que el mejor modelo es **MLP** porque es superior a los otros en la tasa de aciertos balanceada y en sensibilidad. Aunque RF sea superior en especificidad (métrica complementaria de referencia), su sensibilidad es atroz (prácticamente igual que tirar una moneda) y además es inferior a MLP en la métrica principal (5% menor)."
   ]
  },
  {
   "cell_type": "markdown",
   "id": "a0e12f28",
   "metadata": {},
   "source": [
    "## Análisis por segmentos (géneros literarios)"
   ]
  },
  {
   "cell_type": "markdown",
   "id": "b782c024",
   "metadata": {},
   "source": [
    "En primer lugar, vamos a ver qué géneros literarios son los más frecuentes en nuestro conjunto de datos y a partir de ahí estableceremos los segmentos."
   ]
  },
  {
   "cell_type": "code",
   "execution_count": 43,
   "id": "3b30d2e6",
   "metadata": {},
   "outputs": [
    {
     "name": "stdout",
     "output_type": "stream",
     "text": [
      "['19th Century', '20th Century', 'Abuse', 'Action', 'Adoption', 'Adult', 'Adult Fiction']\n"
     ]
    }
   ],
   "source": [
    "generosLiterarios = list(data.columns)[14:]\n",
    "print(generosLiterarios[:7])"
   ]
  },
  {
   "cell_type": "markdown",
   "id": "760efe7f",
   "metadata": {},
   "source": [
    "Podemos observar que en total hay 265 géneros literarios comunes. Vamos a proceder a ver la frecuencia de estos géneros:"
   ]
  },
  {
   "cell_type": "code",
   "execution_count": 44,
   "id": "e812218c",
   "metadata": {},
   "outputs": [
    {
     "data": {
      "image/png": "[encoded data removed]",
      "text/plain": [
       "<Figure size 1000x600 with 1 Axes>"
      ]
     },
     "metadata": {},
     "output_type": "display_data"
    }
   ],
   "source": [
    "# Filtramos el df\n",
    "dataGeneros = data[generosLiterarios]\n",
    "\n",
    "# Sumamos el número de libros que tiene cada género\n",
    "conteoGeneros = dataGeneros.sum().sort_values(ascending=False)\n",
    "\n",
    "topGeneros = conteoGeneros.head(10)\n",
    "\n",
    "# Crear el gráfico de barras\n",
    "plt.figure(figsize=(10, 6))\n",
    "topGeneros.plot(kind='barh')\n",
    "plt.title('Géneros literarios más comunes')\n",
    "plt.xlabel('Género literario')\n",
    "plt.ylabel('Número de libros')\n",
    "plt.xticks(rotation=45, ha='right')\n",
    "plt.tight_layout()\n",
    "plt.show()"
   ]
  },
  {
   "cell_type": "markdown",
   "id": "26b324fe",
   "metadata": {},
   "source": [
    "Como Fiction es común a todos los libros y Audiobook es un formato más que un género literario, **los segmentos que estableceremos para realizar nuestro análisis son los cinco géneros más frecuentes (Contemporary, Romance, Adult, Mystery, Thriller) junto con uno extra que agrupe el resto de géneros**."
   ]
  },
  {
   "cell_type": "code",
   "execution_count": 45,
   "id": "c8d885ae",
   "metadata": {},
   "outputs": [],
   "source": [
    "# Función para calcular la sensibilidad\n",
    "def sensitivity(y_true, y_pred):\n",
    "    tn, fp, fn, tp = confusion_matrix(y_true, y_pred).ravel()\n",
    "    return tp / (tp + fn)\n",
    "\n",
    "# Función para calcular la especificidad\n",
    "def specificity(y_true, y_pred):\n",
    "    tn, fp, fn, tp = confusion_matrix(y_true, y_pred).ravel()\n",
    "    return tn / (tn + fp)\n",
    "\n",
    "def balancedAccuracy(sen, esp):\n",
    "    return (sen + esp) / 2"
   ]
  },
  {
   "cell_type": "code",
   "execution_count": 46,
   "id": "b645f90d",
   "metadata": {},
   "outputs": [],
   "source": [
    "segmentos = [\"Contemporary\", \"Romance\", \"Adult\", \"Mystery\", \"Thriller\", \"Resto\"]"
   ]
  },
  {
   "cell_type": "code",
   "execution_count": 47,
   "id": "0a39f66f",
   "metadata": {},
   "outputs": [],
   "source": [
    "results = []\n",
    "\n",
    "# Itera sobre los segmentos\n",
    "for s in segmentos:\n",
    "    \n",
    "    # Si es Resto nos quedamos con aquellos valores que no tengan \n",
    "    if s == \"Resto\":\n",
    "\n",
    "        filtro = ~(X_test[segmentos[:-1]] == 1).any(axis=1)\n",
    "    \n",
    "        X_test_segmentado = X_test[filtro]\n",
    "    else:\n",
    "        filtro = X_test[s] == 1\n",
    "        X_test_segmentado = X_test[X_test[s] == 1]\n",
    "        \n",
    "    ys = y_test[X_test_segmentado.index]\n",
    "    \n",
    "    for i, model in enumerate(models):\n",
    "        \n",
    "        predictionsModel = predictions[i]\n",
    "        preds = [predictionsModel[i] for i, x in enumerate(filtro) if x == 1]\n",
    "        \n",
    "        sen = sensitivity(ys, preds)\n",
    "        esp = specificity(ys, preds)\n",
    "        ba = balancedAccuracy(sen, esp)\n",
    "        \n",
    "        # Añade los resultados a la lista\n",
    "        results.append({\n",
    "            'Segmento': s,\n",
    "            'Modelo': model,\n",
    "            'Sensibilidad': sen,\n",
    "            'Especificidad': esp,\n",
    "            'Precisión balanceada': ba\n",
    "        })\n",
    "\n",
    "# Crea un DataFrame a partir de la lista de resultados\n",
    "df_results = pd.DataFrame(results)"
   ]
  },
  {
   "cell_type": "code",
   "execution_count": 48,
   "id": "66e3fc18",
   "metadata": {},
   "outputs": [
    {
     "data": {
      "image/png": "[encoded data removed]",
      "text/plain": [
       "<Figure size 1000x1200 with 3 Axes>"
      ]
     },
     "metadata": {},
     "output_type": "display_data"
    }
   ],
   "source": [
    "import matplotlib.pyplot as plt\n",
    "import numpy as np\n",
    "\n",
    "# Agrupamos los datos por segmento y modelo\n",
    "grouped_results = df_results.groupby(['Segmento', 'Modelo'])\n",
    "\n",
    "# Obtenemos las métricas para cada segmento y modelo\n",
    "sensitivities = grouped_results['Sensibilidad'].mean().unstack()\n",
    "specificities = grouped_results['Especificidad'].mean().unstack()\n",
    "balanced_accuracies = grouped_results['Precisión balanceada'].mean().unstack()\n",
    "\n",
    "# Colores\n",
    "colors = ['navajowhite', 'skyblue', 'limegreen']\n",
    "\n",
    "# Creamos un gráfico de barras para cada métrica\n",
    "segments = df_results['Segmento'].unique()\n",
    "models = df_results['Modelo'].unique()\n",
    "num_models = len(models)\n",
    "bar_width = 0.25\n",
    "index = np.arange(len(segments))\n",
    "\n",
    "fig, axs = plt.subplots(3, 1, figsize=(10, 12))\n",
    "\n",
    "# Sensibilidad\n",
    "for i, model in enumerate(models):\n",
    "    axs[0].bar(index + i * bar_width, sensitivities[model], bar_width, label=model, color=colors[i])\n",
    "\n",
    "axs[0].set_xlabel('Segmento')\n",
    "axs[0].set_ylabel('Sensibilidad')\n",
    "axs[0].set_title('Sensibilidad por Segmento y Modelo')\n",
    "axs[0].set_xticks(index + bar_width * (num_models - 1) / 2)\n",
    "axs[0].set_xticklabels(segments)\n",
    "axs[0].legend()\n",
    "\n",
    "# Especificidad\n",
    "for i, model in enumerate(models):\n",
    "    axs[1].bar(index + i * bar_width, specificities[model], bar_width, label=model, color=colors[i])\n",
    "\n",
    "axs[1].set_xlabel('Segmento')\n",
    "axs[1].set_ylabel('Especificidad')\n",
    "axs[1].set_title('Especificidad por segmento y modelo')\n",
    "axs[1].set_xticks(index + bar_width * (num_models - 1) / 2)\n",
    "axs[1].set_xticklabels(segments)\n",
    "axs[1].legend()\n",
    "\n",
    "# Precisión balanceada\n",
    "for i, model in enumerate(models):\n",
    "    axs[2].bar(index + i * bar_width, balanced_accuracies[model], bar_width, label=model, color=colors[i])\n",
    "\n",
    "axs[2].set_xlabel('Segmento')\n",
    "axs[2].set_ylabel('Precisión balanceada')\n",
    "axs[2].set_title('Balanced accuracy por segmento y modelo')\n",
    "axs[2].set_xticks(index + bar_width * (num_models - 1) / 2)\n",
    "axs[2].set_xticklabels(segments)\n",
    "axs[2].legend()\n",
    "\n",
    "plt.tight_layout()\n",
    "plt.show()\n"
   ]
  },
  {
   "cell_type": "markdown",
   "id": "53675f21",
   "metadata": {},
   "source": [
    "Podemos observar que tanto la balanced accuracy como la especificidad son más o menos regulares en todos los segmentos (entre 0.7-0.8 y 0.8-0.9 respectivamente). Sin embargo, la especificidad en el segmento Mystery es bastante baja comparada con el resto (especialmente en RL). Por otro lado, la sensibilidad es bastante irregular y más baja que las dos otras métricas (entre 0.4-0.8), siendo significativamente peor en los segmentos Romance y Thriller. Estos tres segmentos más débiles (Mystery, Romance y Thriller) es donde principalmente se deberían hacer los esfuerzos de mejora, quizá recabando más datos."
   ]
  },
  {
   "cell_type": "markdown",
   "id": "34d5bcde",
   "metadata": {},
   "source": [
    "## Análisis de las variables de cada modelo"
   ]
  },
  {
   "cell_type": "code",
   "execution_count": 49,
   "id": "2c8c9f01",
   "metadata": {},
   "outputs": [],
   "source": [
    "import matplotlib.pyplot as plt"
   ]
  },
  {
   "cell_type": "markdown",
   "id": "f16d67c9",
   "metadata": {},
   "source": [
    "Regresión Logística"
   ]
  },
  {
   "cell_type": "markdown",
   "id": "c9371876",
   "metadata": {},
   "source": [
    "Para analizar la importancia de las variables estudiamos los coeficientes de la regresión logística. Los coeficientes más grandes (en valor absoluto) indican una mayor influencia en la predicción. Mostramos dos gráficas separando las variables categóricas de las numéricas."
   ]
  },
  {
   "cell_type": "code",
   "execution_count": 50,
   "id": "d06eed86",
   "metadata": {},
   "outputs": [],
   "source": [
    "nombres_variables_RL = X_scaled_train[varRL].columns.to_list()"
   ]
  },
  {
   "cell_type": "code",
   "execution_count": 51,
   "id": "eec8f5b7",
   "metadata": {},
   "outputs": [],
   "source": [
    "# Filtramos las variables con coeficiente distinto de cero\n",
    "non_zero_coef_indices = np.where(RL_model.coef_[0] != 0)[0]\n",
    "non_zero_coef = RL_model.coef_[0][non_zero_coef_indices]\n",
    "non_zero_feature_names = [nombres_variables_RL[i] for i in non_zero_coef_indices]"
   ]
  },
  {
   "cell_type": "code",
   "execution_count": 52,
   "id": "27e9e370",
   "metadata": {},
   "outputs": [],
   "source": [
    "nombres_variables_num = ['NumPages', 'Price', 'WordsTitle', 'BookInterest1M', 'Rating20Days', 'PrevBestSellAuthor', 'RedPerc', 'BluePerc']"
   ]
  },
  {
   "cell_type": "code",
   "execution_count": 53,
   "id": "d67e153b",
   "metadata": {},
   "outputs": [
    {
     "data": {
      "image/png": "[encoded data removed]",
      "text/plain": [
       "<Figure size 700x400 with 1 Axes>"
      ]
     },
     "metadata": {},
     "output_type": "display_data"
    },
    {
     "data": {
      "image/png": "[encoded data removed]",
      "text/plain": [
       "<Figure size 700x400 with 1 Axes>"
      ]
     },
     "metadata": {},
     "output_type": "display_data"
    }
   ],
   "source": [
    "# Variables numéricas\n",
    "coeficientes_num = []\n",
    "nombres_num = []\n",
    "\n",
    "# Resto de variables\n",
    "nombres_no_num = [nombre for nombre in nombres_variables_RL if nombre not in nombres_variables_num]\n",
    "coeficientes_no_num = []\n",
    "nombres_no_num_filt = []\n",
    "\n",
    "for i, nombre in enumerate(nombres_no_num):\n",
    "    if nombre in non_zero_feature_names:\n",
    "        coeficientes_no_num.append(non_zero_coef[non_zero_feature_names.index(nombre)])\n",
    "        nombres_no_num_filt.append(nombre)\n",
    "\n",
    "plt.figure(figsize=(7, 4))\n",
    "plt.bar(range(len(coeficientes_no_num)), coeficientes_no_num)\n",
    "plt.xticks(range(len(coeficientes_no_num)), nombres_no_num_filt, rotation=90)\n",
    "plt.title('Coeficientes de Regresión Logística - Variables Categóricas')\n",
    "plt.xlabel('Variables')\n",
    "plt.ylabel('Coeficiente')\n",
    "plt.show()\n",
    "\n",
    "for i, nombre in enumerate(nombres_variables_num):\n",
    "    if nombre in non_zero_feature_names:\n",
    "        coeficientes_num.append(non_zero_coef[non_zero_feature_names.index(nombre)])\n",
    "        nombres_num.append(nombre)\n",
    "\n",
    "plt.figure(figsize=(7, 4))\n",
    "plt.bar(range(len(coeficientes_num)), coeficientes_num)\n",
    "plt.xticks(range(len(coeficientes_num)), nombres_num, rotation=90)\n",
    "plt.title('Coeficientes de Regresión Logística - Variables Numéricas')\n",
    "plt.xlabel('Variables')\n",
    "plt.ylabel('Coeficiente')\n",
    "plt.show()\n"
   ]
  },
  {
   "cell_type": "markdown",
   "id": "d7b35d7d",
   "metadata": {},
   "source": [
    "Se observa como algunas variables tienen coeficiente negativo, indicando una relación inversa con la variable respuesta. Wordstitle tiene la correlación negativa más fuerte seguida de la de Price y Fiction."
   ]
  },
  {
   "cell_type": "markdown",
   "id": "07548972",
   "metadata": {},
   "source": [
    "Random Forest"
   ]
  },
  {
   "cell_type": "markdown",
   "id": "6b16ab51",
   "metadata": {},
   "source": [
    "Para analizar la importancia de las variables utilizaremos el atributo feature_importances_ del modelo entrenado de Random Forest"
   ]
  },
  {
   "cell_type": "code",
   "execution_count": 54,
   "id": "856c6516",
   "metadata": {},
   "outputs": [],
   "source": [
    "nombres_variables_RF = X_train.columns.to_list()"
   ]
  },
  {
   "cell_type": "code",
   "execution_count": 57,
   "id": "cc924820",
   "metadata": {},
   "outputs": [
    {
     "data": {
      "image/png": "[encoded data removed]",
      "text/plain": [
       "<Figure size 900x500 with 1 Axes>"
      ]
     },
     "metadata": {},
     "output_type": "display_data"
    }
   ],
   "source": [
    "# Obtener índices de las características ordenadas por importancia\n",
    "sorted_indices = np.argsort(RF_model.feature_importances_)[::-1]\n",
    "\n",
    "# Seleccionar las 30 características principales\n",
    "top_indices = sorted_indices[:30]\n",
    "\n",
    "# Obtener las importancias y nombres de las características correspondientes\n",
    "top_importances = RF_model.feature_importances_[top_indices]\n",
    "top_feature_names = [nombres_variables_RF[i] for i in top_indices]\n",
    "\n",
    "# Graficar las importancias de las características\n",
    "plt.figure(figsize=(9, 5))\n",
    "plt.bar(range(len(top_importances)), top_importances)\n",
    "plt.xticks(range(len(top_importances)), top_feature_names, rotation=90)\n",
    "plt.title('Top 30 variables más importantes de Random Forest')\n",
    "plt.xlabel('Variables')\n",
    "plt.ylabel('Importancia')\n",
    "plt.tight_layout()\n",
    "plt.show()\n"
   ]
  },
  {
   "cell_type": "markdown",
   "id": "1444db43",
   "metadata": {},
   "source": [
    "Perceptrón multicapa (MLP)"
   ]
  },
  {
   "cell_type": "markdown",
   "id": "2515dd5b",
   "metadata": {},
   "source": [
    "Para el modelo de MLP, Scikit-learn no proporciona una función integrada para calcular la importancia de las variables como lo hace para modelos basados en árboles (por ejemplo, Random Forest). No existe por tanto ningún atributo de este modelo que nos proporcione directamente una estimación de la importancia de las variables. Además, la interpretación de modelos de redes neuronales puede ser más compleja que la de modelos lineales o basados en árboles debido a su naturaleza no lineal y a la presencia de múltiples capas ocultas."
   ]
  },
  {
   "cell_type": "markdown",
   "id": "1a3c2ad3",
   "metadata": {},
   "source": [
    "**Conclusiones**\n",
    "\n",
    "Similitudes\n",
    "* Las variables con más importacia de forma general son HasWikipedia, PrevBestSellAuthor, BookInterest1M, HasTwitter y WordsTitle\n",
    "* Tanto RL como RF presentan la mayoría de variables con coeficiente/métrica igual a 0 o muy cercano a 0. Por tanto se puede decir que ambos modelos seleccionan las variables más relevantes y reducen considerablemente la dimensionalidad\n",
    "\n",
    "Diferencias\n",
    "* En RL las variables 'Fiction' y 'AudioBook' toman bastante relevancia, cosa que en RF no"
   ]
  },
  {
   "cell_type": "code",
   "execution_count": 60,
   "id": "996b4029",
   "metadata": {},
   "outputs": [
    {
     "data": {
      "text/plain": [
       "0"
      ]
     },
     "execution_count": 60,
     "metadata": {},
     "output_type": "execute_result"
    }
   ],
   "source": [
    "# Filtramos las características con importancia nula\n",
    "zero_indices = [i for i, importance in enumerate(top_importances) if importance == 0]\n",
    "len(zero_indices)"
   ]
  },
  {
   "cell_type": "markdown",
   "id": "29b35d28",
   "metadata": {},
   "source": [
    "El RF no tiene ninguna variable con importancia 0."
   ]
  }
 ],
 "metadata": {
  "kernelspec": {
   "display_name": "Python 3 (ipykernel)",
   "language": "python",
   "name": "python3"
  },
  "language_info": {
   "codemirror_mode": {
    "name": "ipython",
    "version": 3
   },
   "file_extension": ".py",
   "mimetype": "text/x-python",
   "name": "python",
   "nbconvert_exporter": "python",
   "pygments_lexer": "ipython3",
   "version": "3.11.5"
  }
 },
 "nbformat": 4,
 "nbformat_minor": 5
}
