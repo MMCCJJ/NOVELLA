{
 "cells": [
  {
   "cell_type": "markdown",
   "id": "2ef17995",
   "metadata": {},
   "source": [
    "# Modelo Perceptrón Multicapa\n",
    "[MLP - Sklearn (Documentación oficial)](https://scikit-learn.org/stable/modules/generated/sklearn.neural_network.MLPClassifier.html)"
   ]
  },
  {
   "cell_type": "markdown",
   "id": "02850c57",
   "metadata": {},
   "source": [
    "En este notebook se ajustan los hiperparámetros del modelo de regresión logistica con regularización. Se han probado 6 modelos distintos (siempre con todas las variables):\n",
    "\n",
    "- BASELINE (todas las variables, parametros por defecto y sin transformaciones, mediante CV)\n",
    "- Solo modifica arquitectura, escalado robusto, SMOTE-NC, CV\n",
    "- Arquitectura fija, escalado robusto, SMOTE-NC, Grid Search CV\n",
    "- Arquitectura fija, escalado robusto, SMOTE-NC, Randomized Search CV\n",
    "- Escalado robusto, SMOTE-NC, Grid Search CV\n",
    "- Escalado robusto, SMOTE-NC, Randomized Search CV"
   ]
  },
  {
   "cell_type": "code",
   "execution_count": 1,
   "id": "376a2936",
   "metadata": {},
   "outputs": [],
   "source": [
    "import sys\n",
    "import os\n",
    "import pandas as pd\n",
    "import matplotlib.pyplot as plt"
   ]
  },
  {
   "cell_type": "code",
   "execution_count": 81,
   "id": "b1b01d0f",
   "metadata": {},
   "outputs": [],
   "source": [
    "# -- LIBRERÍAS PARA LOS MODELOS --\n",
    "\n",
    "import pandas as pd\n",
    "import os\n",
    "import numpy as np\n",
    "\n",
    "from sklearn.model_selection import cross_validate\n",
    "from sklearn.neural_network import MLPClassifier\n",
    "import sklearn\n",
    "\n",
    "from scipy.stats import uniform"
   ]
  },
  {
   "cell_type": "code",
   "execution_count": 2,
   "id": "85f70f2b",
   "metadata": {},
   "outputs": [],
   "source": [
    "# -- CONFIGURACIÓN DEL DRIVE --\n",
    "\n",
    "import os\n",
    "import sys\n",
    "\n",
    "# Añadimos la carpeta 'drive' al path\n",
    "ruta_carpeta_drive = os.path.abspath('../../drive')\n",
    "if ruta_carpeta_drive not in sys.path:\n",
    "    sys.path.insert(0, ruta_carpeta_drive)\n",
    "\n",
    "import drive"
   ]
  },
  {
   "cell_type": "code",
   "execution_count": 79,
   "id": "87f7df67",
   "metadata": {},
   "outputs": [],
   "source": [
    "# -- IMPORTAMOS FUNCIONES COMUNES --\n",
    "\n",
    "from pathlib import Path\n",
    "\n",
    "# Obtenemos la ruta al directorio del módulo utilidadesModelos.py\n",
    "module_dir = Path('../') \n",
    "\n",
    "# Agregamos temporalmente el directorio al sys.path solo para esta importación\n",
    "sys.path.append(str(module_dir))\n",
    "\n",
    "from utilidadesModelos import *\n",
    "\n",
    "# ! A PARTIR DE AQUÍ NO REALIZAR MÁS IMPORTACIONES"
   ]
  },
  {
   "cell_type": "markdown",
   "id": "bf510da0",
   "metadata": {},
   "source": [
    "### 1. Importación de los datos"
   ]
  },
  {
   "cell_type": "markdown",
   "id": "6777f790",
   "metadata": {},
   "source": [
    "Para entrenar este modelo hemos partido del conjunto de datos ya limpio con la variable GenresList transformada con OneHotEncoding."
   ]
  },
  {
   "cell_type": "code",
   "execution_count": 3,
   "id": "36676a2f",
   "metadata": {},
   "outputs": [
    {
     "name": "stdout",
     "output_type": "stream",
     "text": [
      "Archivo datosEntrenamiento.parquet guardado en: ../data/clean/datosEntrenamiento.parquet\n"
     ]
    }
   ],
   "source": [
    "# Descargamos los datos en formato parquet de Google Drive\n",
    "drive.descargar_archivos_concretos('datosEntrenamiento.parquet', '../../drive')"
   ]
  },
  {
   "cell_type": "code",
   "execution_count": 4,
   "id": "ce54e302",
   "metadata": {},
   "outputs": [],
   "source": [
    "# data = pd.read_parquet('../data/clean/datosEntrenamiento.parquet')\n",
    "data = pd.read_csv('/Users/maria/Downloads/ENTRENAMIENTO_FINAL.csv')"
   ]
  },
  {
   "cell_type": "code",
   "execution_count": 5,
   "id": "ab2a2675",
   "metadata": {},
   "outputs": [
    {
     "data": {
      "text/html": [
       "<div>\n",
       "<style scoped>\n",
       "    .dataframe tbody tr th:only-of-type {\n",
       "        vertical-align: middle;\n",
       "    }\n",
       "\n",
       "    .dataframe tbody tr th {\n",
       "        vertical-align: top;\n",
       "    }\n",
       "\n",
       "    .dataframe thead th {\n",
       "        text-align: right;\n",
       "    }\n",
       "</style>\n",
       "<table border=\"1\" class=\"dataframe\">\n",
       "  <thead>\n",
       "    <tr style=\"text-align: right;\">\n",
       "      <th></th>\n",
       "      <th>Unnamed: 0</th>\n",
       "      <th>Bestseller</th>\n",
       "      <th>NumPages</th>\n",
       "      <th>SagaNumber</th>\n",
       "      <th>RedPerc</th>\n",
       "      <th>BluePerc</th>\n",
       "      <th>BelongsSaga</th>\n",
       "      <th>Price</th>\n",
       "      <th>WordsTitle</th>\n",
       "      <th>PriceFormat</th>\n",
       "      <th>...</th>\n",
       "      <th>Womens</th>\n",
       "      <th>Womens Fiction</th>\n",
       "      <th>World War I</th>\n",
       "      <th>World War II</th>\n",
       "      <th>Young Adult</th>\n",
       "      <th>Young Adult Contemporary</th>\n",
       "      <th>Young Adult Fantasy</th>\n",
       "      <th>Young Adult Romance</th>\n",
       "      <th>Young Adult Science Fiction</th>\n",
       "      <th>Zombies</th>\n",
       "    </tr>\n",
       "  </thead>\n",
       "  <tbody>\n",
       "    <tr>\n",
       "      <th>0</th>\n",
       "      <td>0</td>\n",
       "      <td>0.0</td>\n",
       "      <td>329.0</td>\n",
       "      <td>1.0</td>\n",
       "      <td>0.51</td>\n",
       "      <td>0.40</td>\n",
       "      <td>0</td>\n",
       "      <td>19.99</td>\n",
       "      <td>1.0</td>\n",
       "      <td>paperback</td>\n",
       "      <td>...</td>\n",
       "      <td>0</td>\n",
       "      <td>0</td>\n",
       "      <td>0</td>\n",
       "      <td>0</td>\n",
       "      <td>0</td>\n",
       "      <td>0</td>\n",
       "      <td>0</td>\n",
       "      <td>0</td>\n",
       "      <td>0</td>\n",
       "      <td>0</td>\n",
       "    </tr>\n",
       "    <tr>\n",
       "      <th>1</th>\n",
       "      <td>1</td>\n",
       "      <td>0.0</td>\n",
       "      <td>269.0</td>\n",
       "      <td>2.0</td>\n",
       "      <td>0.61</td>\n",
       "      <td>0.54</td>\n",
       "      <td>1</td>\n",
       "      <td>3.99</td>\n",
       "      <td>2.0</td>\n",
       "      <td>ebook</td>\n",
       "      <td>...</td>\n",
       "      <td>0</td>\n",
       "      <td>0</td>\n",
       "      <td>0</td>\n",
       "      <td>0</td>\n",
       "      <td>0</td>\n",
       "      <td>0</td>\n",
       "      <td>0</td>\n",
       "      <td>0</td>\n",
       "      <td>0</td>\n",
       "      <td>0</td>\n",
       "    </tr>\n",
       "    <tr>\n",
       "      <th>2</th>\n",
       "      <td>2</td>\n",
       "      <td>0.0</td>\n",
       "      <td>2335.0</td>\n",
       "      <td>1.0</td>\n",
       "      <td>0.72</td>\n",
       "      <td>0.57</td>\n",
       "      <td>1</td>\n",
       "      <td>20.99</td>\n",
       "      <td>7.0</td>\n",
       "      <td>ebook</td>\n",
       "      <td>...</td>\n",
       "      <td>0</td>\n",
       "      <td>0</td>\n",
       "      <td>0</td>\n",
       "      <td>0</td>\n",
       "      <td>1</td>\n",
       "      <td>0</td>\n",
       "      <td>0</td>\n",
       "      <td>0</td>\n",
       "      <td>0</td>\n",
       "      <td>0</td>\n",
       "    </tr>\n",
       "    <tr>\n",
       "      <th>3</th>\n",
       "      <td>3</td>\n",
       "      <td>0.0</td>\n",
       "      <td>40.0</td>\n",
       "      <td>1.0</td>\n",
       "      <td>0.83</td>\n",
       "      <td>0.35</td>\n",
       "      <td>0</td>\n",
       "      <td>25.00</td>\n",
       "      <td>1.0</td>\n",
       "      <td>hardcover</td>\n",
       "      <td>...</td>\n",
       "      <td>0</td>\n",
       "      <td>0</td>\n",
       "      <td>0</td>\n",
       "      <td>0</td>\n",
       "      <td>1</td>\n",
       "      <td>0</td>\n",
       "      <td>0</td>\n",
       "      <td>0</td>\n",
       "      <td>0</td>\n",
       "      <td>0</td>\n",
       "    </tr>\n",
       "    <tr>\n",
       "      <th>4</th>\n",
       "      <td>4</td>\n",
       "      <td>0.0</td>\n",
       "      <td>189.0</td>\n",
       "      <td>1.0</td>\n",
       "      <td>0.59</td>\n",
       "      <td>0.26</td>\n",
       "      <td>0</td>\n",
       "      <td>15.00</td>\n",
       "      <td>4.0</td>\n",
       "      <td>paperback</td>\n",
       "      <td>...</td>\n",
       "      <td>0</td>\n",
       "      <td>0</td>\n",
       "      <td>0</td>\n",
       "      <td>0</td>\n",
       "      <td>0</td>\n",
       "      <td>0</td>\n",
       "      <td>0</td>\n",
       "      <td>0</td>\n",
       "      <td>0</td>\n",
       "      <td>0</td>\n",
       "    </tr>\n",
       "  </tbody>\n",
       "</table>\n",
       "<p>5 rows × 312 columns</p>\n",
       "</div>"
      ],
      "text/plain": [
       "   Unnamed: 0  Bestseller  NumPages  SagaNumber  RedPerc  BluePerc  \\\n",
       "0           0         0.0     329.0         1.0     0.51      0.40   \n",
       "1           1         0.0     269.0         2.0     0.61      0.54   \n",
       "2           2         0.0    2335.0         1.0     0.72      0.57   \n",
       "3           3         0.0      40.0         1.0     0.83      0.35   \n",
       "4           4         0.0     189.0         1.0     0.59      0.26   \n",
       "\n",
       "   BelongsSaga  Price  WordsTitle PriceFormat  ...  Womens  Womens Fiction  \\\n",
       "0            0  19.99         1.0   paperback  ...       0               0   \n",
       "1            1   3.99         2.0       ebook  ...       0               0   \n",
       "2            1  20.99         7.0       ebook  ...       0               0   \n",
       "3            0  25.00         1.0   hardcover  ...       0               0   \n",
       "4            0  15.00         4.0   paperback  ...       0               0   \n",
       "\n",
       "   World War I  World War II  Young Adult  Young Adult Contemporary  \\\n",
       "0            0             0            0                         0   \n",
       "1            0             0            0                         0   \n",
       "2            0             0            1                         0   \n",
       "3            0             0            1                         0   \n",
       "4            0             0            0                         0   \n",
       "\n",
       "   Young Adult Fantasy  Young Adult Romance  Young Adult Science Fiction  \\\n",
       "0                    0                    0                            0   \n",
       "1                    0                    0                            0   \n",
       "2                    0                    0                            0   \n",
       "3                    0                    0                            0   \n",
       "4                    0                    0                            0   \n",
       "\n",
       "   Zombies  \n",
       "0        0  \n",
       "1        0  \n",
       "2        0  \n",
       "3        0  \n",
       "4        0  \n",
       "\n",
       "[5 rows x 312 columns]"
      ]
     },
     "execution_count": 5,
     "metadata": {},
     "output_type": "execute_result"
    }
   ],
   "source": [
    "data.head()"
   ]
  },
  {
   "cell_type": "markdown",
   "id": "4aee0ecb",
   "metadata": {},
   "source": [
    "En este notebook solo usaremos el conjunto de train para ajustar los hiperparámetros. El conjunto de test se emplea en la evaluación de los modelos."
   ]
  },
  {
   "cell_type": "markdown",
   "id": "230f2524",
   "metadata": {},
   "source": [
    "### Preparación del entorno de MLFlow"
   ]
  },
  {
   "cell_type": "code",
   "execution_count": 80,
   "id": "6acc65fb",
   "metadata": {},
   "outputs": [],
   "source": [
    "# !mlflow ui --port 8080 --backend-store-uri sqlite:///mlruns.db"
   ]
  },
  {
   "cell_type": "code",
   "execution_count": 12,
   "id": "b8bde57e",
   "metadata": {},
   "outputs": [
    {
     "name": "stderr",
     "output_type": "stream",
     "text": [
      "2024/04/28 01:33:13 INFO mlflow.store.db.utils: Creating initial MLflow database tables...\n",
      "2024/04/28 01:33:13 INFO mlflow.store.db.utils: Updating database tables\n",
      "INFO  [alembic.runtime.migration] Context impl SQLiteImpl.\n",
      "INFO  [alembic.runtime.migration] Will assume non-transactional DDL.\n",
      "INFO  [alembic.runtime.migration] Running upgrade  -> 451aebb31d03, add metric step\n",
      "INFO  [alembic.runtime.migration] Running upgrade 451aebb31d03 -> 90e64c465722, migrate user column to tags\n",
      "INFO  [alembic.runtime.migration] Running upgrade 90e64c465722 -> 181f10493468, allow nulls for metric values\n",
      "INFO  [alembic.runtime.migration] Running upgrade 181f10493468 -> df50e92ffc5e, Add Experiment Tags Table\n",
      "INFO  [alembic.runtime.migration] Running upgrade df50e92ffc5e -> 7ac759974ad8, Update run tags with larger limit\n",
      "INFO  [alembic.runtime.migration] Running upgrade 7ac759974ad8 -> 89d4b8295536, create latest metrics table\n",
      "INFO  [89d4b8295536_create_latest_metrics_table_py] Migration complete!\n",
      "INFO  [alembic.runtime.migration] Running upgrade 89d4b8295536 -> 2b4d017a5e9b, add model registry tables to db\n",
      "INFO  [2b4d017a5e9b_add_model_registry_tables_to_db_py] Adding registered_models and model_versions tables to database.\n",
      "INFO  [2b4d017a5e9b_add_model_registry_tables_to_db_py] Migration complete!\n",
      "INFO  [alembic.runtime.migration] Running upgrade 2b4d017a5e9b -> cfd24bdc0731, Update run status constraint with killed\n",
      "INFO  [alembic.runtime.migration] Running upgrade cfd24bdc0731 -> 0a8213491aaa, drop_duplicate_killed_constraint\n",
      "INFO  [alembic.runtime.migration] Running upgrade 0a8213491aaa -> 728d730b5ebd, add registered model tags table\n",
      "INFO  [alembic.runtime.migration] Running upgrade 728d730b5ebd -> 27a6a02d2cf1, add model version tags table\n",
      "INFO  [alembic.runtime.migration] Running upgrade 27a6a02d2cf1 -> 84291f40a231, add run_link to model_version\n",
      "INFO  [alembic.runtime.migration] Running upgrade 84291f40a231 -> a8c4a736bde6, allow nulls for run_id\n",
      "INFO  [alembic.runtime.migration] Running upgrade a8c4a736bde6 -> 39d1c3be5f05, add_is_nan_constraint_for_metrics_tables_if_necessary\n",
      "INFO  [alembic.runtime.migration] Running upgrade 39d1c3be5f05 -> c48cb773bb87, reset_default_value_for_is_nan_in_metrics_table_for_mysql\n",
      "INFO  [alembic.runtime.migration] Running upgrade c48cb773bb87 -> bd07f7e963c5, create index on run_uuid\n",
      "INFO  [alembic.runtime.migration] Running upgrade bd07f7e963c5 -> 0c779009ac13, add deleted_time field to runs table\n",
      "INFO  [alembic.runtime.migration] Running upgrade 0c779009ac13 -> cc1f77228345, change param value length to 500\n",
      "INFO  [alembic.runtime.migration] Running upgrade cc1f77228345 -> 97727af70f4d, Add creation_time and last_update_time to experiments table\n",
      "INFO  [alembic.runtime.migration] Running upgrade 97727af70f4d -> 3500859a5d39, Add Model Aliases table\n",
      "INFO  [alembic.runtime.migration] Running upgrade 3500859a5d39 -> 7f2a7d5fae7d, add datasets inputs input_tags tables\n",
      "INFO  [alembic.runtime.migration] Running upgrade 7f2a7d5fae7d -> 2d6e25af4d3e, increase max param val length from 500 to 8000\n",
      "INFO  [alembic.runtime.migration] Running upgrade 2d6e25af4d3e -> acf3f17fdcc7, add storage location field to model versions\n",
      "INFO  [alembic.runtime.migration] Context impl SQLiteImpl.\n",
      "INFO  [alembic.runtime.migration] Will assume non-transactional DDL.\n",
      "2024/04/28 01:33:13 INFO mlflow.tracking.fluent: Experiment with name 'MultiLayerPerceptron' does not exist. Creating a new experiment.\n"
     ]
    },
    {
     "data": {
      "text/plain": [
       "<Experiment: artifact_location='/Users/maria/Dropbox/UCM/PD1/NOVELLA/modelos/MLP/mlruns/1', creation_time=1714260793743, experiment_id='1', last_update_time=1714260793743, lifecycle_stage='active', name='MultiLayerPerceptron', tags={}>"
      ]
     },
     "execution_count": 12,
     "metadata": {},
     "output_type": "execute_result"
    }
   ],
   "source": [
    "# Inicializamos el entorno MLFlow\n",
    "experimento = 'MultilayerPerceptron'\n",
    "inicializarMLFlow(experimento)"
   ]
  },
  {
   "cell_type": "markdown",
   "id": "07b0c6c0",
   "metadata": {},
   "source": [
    "### Ajuste de hiperparámetros"
   ]
  },
  {
   "cell_type": "markdown",
   "id": "2956d5e0",
   "metadata": {},
   "source": [
    "## MODELO BASELINE\n",
    "\n",
    "***\n",
    "\n",
    "Creamos un modelo base para después comparar con los otros modelos que entrenemos con más técnicas de procesado y transformaciones. \n",
    "\n",
    "Modelo baseline:\n",
    "* Parámetros por defecto\n",
    "* Todas las variables\n",
    "* Sin transformaciones"
   ]
  },
  {
   "cell_type": "code",
   "execution_count": 14,
   "id": "9c299479",
   "metadata": {},
   "outputs": [],
   "source": [
    "# Copiamos el conjunto de datos con todas las variables \n",
    "dataBaseline = data.copy()\n",
    "\n",
    "# Cofidicamos el formato de los precios\n",
    "dataBaseline = codificarPriceFormat(dataBaseline)"
   ]
  },
  {
   "cell_type": "code",
   "execution_count": null,
   "id": "5ed57f4b",
   "metadata": {},
   "outputs": [],
   "source": [
    "# Dividimos los datos en conjuntos de entrenamiento y prueba\n",
    "y_base, X_base = getYX(dataBaseline)\n",
    "X_base_train, X_base_test, y_base_train, y_base_test = separacionTrainTest(X_base, y_base)"
   ]
  },
  {
   "cell_type": "code",
   "execution_count": 18,
   "id": "acced820",
   "metadata": {},
   "outputs": [],
   "source": [
    "# Generamos el modelo\n",
    "PMC = sklearn.neural_network.MLPClassifier(random_state=SEED)"
   ]
  },
  {
   "cell_type": "code",
   "execution_count": 19,
   "id": "96787255",
   "metadata": {
    "scrolled": true
   },
   "outputs": [
    {
     "name": "stderr",
     "output_type": "stream",
     "text": [
      "[Parallel(n_jobs=-1)]: Using backend LokyBackend with 8 concurrent workers.\n",
      "[Parallel(n_jobs=-1)]: Done   2 out of   5 | elapsed:    4.1s remaining:    6.1s\n",
      "[Parallel(n_jobs=-1)]: Done   5 out of   5 | elapsed:    4.6s finished\n"
     ]
    }
   ],
   "source": [
    "# Aplicamos validación cruzada\n",
    "scores = cross_validate(PMC, X_base_train, y_base_train, scoring=METRICS, cv=CV_FOLDS,\n",
    "                        return_train_score=True, verbose=1, n_jobs=-1)"
   ]
  },
  {
   "cell_type": "code",
   "execution_count": null,
   "id": "d642844c",
   "metadata": {},
   "outputs": [],
   "source": [
    "# Clasificación del modelo\n",
    "tags = {\n",
    "    \"variables\": \"311\",\n",
    "    \"transformación\": \"NO\",\n",
    "    \"estrategia\": \"CV\",\n",
    "    \"smote\": \"NO\"\n",
    "}\n",
    "\n",
    "# Ajustamos el modelo\n",
    "PMC.fit(X_base_train, y_base_train)\n",
    "\n",
    "# Registramos el modelo en la base de datos\n",
    "registrarBaseline(PMC, scores, X_base_train, tags)"
   ]
  },
  {
   "cell_type": "markdown",
   "id": "a042a655",
   "metadata": {},
   "source": [
    "## MODELOS CON ESCALADO Y SMOTENC\n",
    "***\n",
    "El SMOTE-NC es una técnica de oversampling que trabaja tanto con variables categóricas con numéricas. En nuestro caso, lo aplicaremos a cada uno de los conjuntos de entrenamiento generados en las iteraciones de la validación cruzada. Si no se hiciese de este modo, correríamos riesgo de data leakage."
   ]
  },
  {
   "cell_type": "markdown",
   "id": "6846854e",
   "metadata": {},
   "source": [
    "### Escalado de variables"
   ]
  },
  {
   "cell_type": "markdown",
   "id": "72117094",
   "metadata": {},
   "source": [
    "Para mejorar el rendimiento de la red neuronal, vamos a escalar las variables. Como los datos tienen muchos outliers, una estandarización sería muy susceptible a valores extremos. Por lo tanto, vamos a aplicar un [escalado robusto](https://scikit-learn.org/stable/auto_examples/preprocessing/plot_all_scaling.html#plot-all-scaling-robust-scaler-section), que usa la mediana y los rangos intercuartílicos. De esta forma la transformación será más resistente a las variaciones introducidas por datos atípicos."
   ]
  },
  {
   "cell_type": "code",
   "execution_count": null,
   "id": "00df0148",
   "metadata": {},
   "outputs": [],
   "source": [
    "data_scaled = data.copy()\n",
    "\n",
    "y_scaled, X_scaled = getYX(data_scaled)\n",
    "\n",
    "# Dividimos en train y test\n",
    "X_scaled_train, X_scaled_test, y_scaled_train, y_scaled_test = separacionTrainTest(X_scaled, y_scaled)"
   ]
  },
  {
   "cell_type": "code",
   "execution_count": null,
   "id": "ed044f6f",
   "metadata": {},
   "outputs": [],
   "source": [
    "# Solo lo aplicamos a las variables numéricas\n",
    "# Incluimos 'Zombies' que no hay que escalar porque el RobustScaler ignora la primera columna de la lista \n",
    "# (hemos hecho pruebas)\n",
    "variables_numericas = ['Zombies', 'SagaNumber', 'NumPages', 'RedPerc', 'BluePerc', 'Price', 'WordsTitle', 'BookInterest1M',\n",
    "                     'Rating20Days', 'PrevBestSellAuthor']\n",
    "\n",
    "X_scaled_train, X_scaled_test = aplicarEscaladoRobusto(X_scaled_train, X_scaled_test, variablesNumericas)"
   ]
  },
  {
   "cell_type": "markdown",
   "id": "65eae73f",
   "metadata": {},
   "source": [
    "### Transformación de variables para el entrenamiento\n",
    "\n",
    "Vamos a transformar la columna 'PriceFormat' con variables dummy para poder entrenar los modelos después."
   ]
  },
  {
   "cell_type": "code",
   "execution_count": 26,
   "id": "bb5e2529",
   "metadata": {},
   "outputs": [],
   "source": [
    "X_to_train = X_scaled_train.copy()\n",
    "X_to_train = codificarPriceFormat(X_to_train)\n",
    "\n",
    "X_to_test = X_scaled_test.copy()\n",
    "X_to_test = codificarPriceFormat(X_to_test)"
   ]
  },
  {
   "cell_type": "markdown",
   "id": "5e4218a4",
   "metadata": {},
   "source": [
    "### Creación de KFolds"
   ]
  },
  {
   "cell_type": "markdown",
   "id": "e22ee0bb",
   "metadata": {},
   "source": [
    "Para tener una evaluación de los modelos justa, realizaremos [validación cruzada](https://scikit-learn.org/stable/modules/generated/sklearn.model_selection.cross_validate.html) estratificada con k = 5 común para todos los modelos. "
   ]
  },
  {
   "cell_type": "code",
   "execution_count": null,
   "id": "39251451",
   "metadata": {},
   "outputs": [],
   "source": [
    "# Inicializamos el objeto KFold\n",
    "kf = generarFoldsEstratificados()\n",
    "kf"
   ]
  },
  {
   "cell_type": "markdown",
   "id": "5c695c69",
   "metadata": {},
   "source": [
    "### Creación del pipeline"
   ]
  },
  {
   "cell_type": "markdown",
   "id": "6b17032f",
   "metadata": {},
   "source": [
    "Creamos un pipeline con las operaciones que se deben aplicar a cada fold en el entrenamiento:\n",
    "* Oversampling (SMOTENC)\n",
    "* Redondear variables enteras\n",
    "* Transformación variables categóricas con un valor único\n",
    "* Clasificador (MLP)"
   ]
  },
  {
   "cell_type": "code",
   "execution_count": 31,
   "id": "bbd03555",
   "metadata": {},
   "outputs": [],
   "source": [
    "# Columnas de los géneros\n",
    "columnas_generos = X_scaled_train.columns[14:]\n",
    "\n",
    "# Columnas categóricas\n",
    "categoricalColumns = [\"BelongsSaga\", \"PriceFormat\", 'HasTwitter', 'HasWikipedia'] + list(columnas_generos)"
   ]
  },
  {
   "cell_type": "code",
   "execution_count": null,
   "id": "d68a766d",
   "metadata": {},
   "outputs": [],
   "source": [
    "smote = generarSMOTENC(categoricalColumns)\n",
    "smote\n",
    "\n",
    "# Definimos el clasificador \n",
    "PMC = sklearn.neural_network.MLPClassifier(random_state=SEED)\n",
    "\n",
    "# Construimos el pipeline\n",
    "pipeline = generarPipeline(smote, PMC)\n",
    "pipeline"
   ]
  },
  {
   "cell_type": "markdown",
   "id": "71d095ef",
   "metadata": {},
   "source": [
    "### Búsqueda de hiperparámetros"
   ]
  },
  {
   "cell_type": "markdown",
   "id": "dee92221",
   "metadata": {},
   "source": [
    "Vamos a buscar los hiperparámetros que optimicen el modelo probando una serie de combinaciones. Para ello, vamos a usar:\n",
    "* Datos con escalado robusto\n",
    "* Pipeline previamente creado\n",
    "* Cross validation con k folds"
   ]
  },
  {
   "cell_type": "markdown",
   "id": "fcbdb80d",
   "metadata": {},
   "source": [
    "Como las redes neuronales son muy costosas computacionalmente, vamos a dividir el ajuste de hiperparámetros en tres pasos.  Los dos primeros reducen mucho el número de opciones y por lo tanto optimizan el tiempo de ejecución.\n",
    "\n",
    "1. Elegir la arquitectura más óptima de una serie de opciones mediante cross-validation con k folds\n",
    "2. Ajustar el resto de hiperparámetros mediante GridSearch y RandomSearch tras fijar dicha arquitectura (para reducir el tiempo de entrenamiento)\n",
    "3. Ajustar todos los hiperparámetros a la vez (incluida la arquitectura) mediante GridSearch y RandomSearch\n",
    "\n",
    "Además, vamos a fijar la función de activación a 'logistic', que es la indicada para cuando la salida es una probabilidad."
   ]
  },
  {
   "cell_type": "markdown",
   "id": "979b6fcf",
   "metadata": {},
   "source": [
    "### 1. Ajuste de la arquitectura de la red neuronal"
   ]
  },
  {
   "cell_type": "code",
   "execution_count": 33,
   "id": "ed316b6e",
   "metadata": {
    "scrolled": true
   },
   "outputs": [
    {
     "name": "stderr",
     "output_type": "stream",
     "text": [
      "[Parallel(n_jobs=-1)]: Using backend LokyBackend with 8 concurrent workers.\n",
      "/Users/maria/anaconda3/lib/python3.11/site-packages/sklearn/neural_network/_multilayer_perceptron.py:691: ConvergenceWarning: Stochastic Optimizer: Maximum iterations (200) reached and the optimization hasn't converged yet.\n",
      "  warnings.warn(\n",
      "[Parallel(n_jobs=-1)]: Done   2 out of   5 | elapsed:   18.8s remaining:   28.2s\n",
      "/Users/maria/anaconda3/lib/python3.11/site-packages/sklearn/neural_network/_multilayer_perceptron.py:691: ConvergenceWarning: Stochastic Optimizer: Maximum iterations (200) reached and the optimization hasn't converged yet.\n",
      "  warnings.warn(\n",
      "/Users/maria/anaconda3/lib/python3.11/site-packages/sklearn/neural_network/_multilayer_perceptron.py:691: ConvergenceWarning: Stochastic Optimizer: Maximum iterations (200) reached and the optimization hasn't converged yet.\n",
      "  warnings.warn(\n",
      "[Parallel(n_jobs=-1)]: Done   5 out of   5 | elapsed:   19.8s finished\n",
      "[Parallel(n_jobs=-1)]: Using backend LokyBackend with 8 concurrent workers.\n",
      "[Parallel(n_jobs=-1)]: Done   2 out of   5 | elapsed:   23.7s remaining:   35.5s\n",
      "[Parallel(n_jobs=-1)]: Done   5 out of   5 | elapsed:   28.0s finished\n",
      "[Parallel(n_jobs=-1)]: Using backend LokyBackend with 8 concurrent workers.\n",
      "[Parallel(n_jobs=-1)]: Done   2 out of   5 | elapsed:   18.9s remaining:   28.4s\n",
      "/Users/maria/anaconda3/lib/python3.11/site-packages/sklearn/neural_network/_multilayer_perceptron.py:691: ConvergenceWarning: Stochastic Optimizer: Maximum iterations (200) reached and the optimization hasn't converged yet.\n",
      "  warnings.warn(\n",
      "/Users/maria/anaconda3/lib/python3.11/site-packages/sklearn/neural_network/_multilayer_perceptron.py:691: ConvergenceWarning: Stochastic Optimizer: Maximum iterations (200) reached and the optimization hasn't converged yet.\n",
      "  warnings.warn(\n",
      "[Parallel(n_jobs=-1)]: Done   5 out of   5 | elapsed:   25.0s finished\n",
      "[Parallel(n_jobs=-1)]: Using backend LokyBackend with 8 concurrent workers.\n",
      "[Parallel(n_jobs=-1)]: Done   2 out of   5 | elapsed:   23.6s remaining:   35.4s\n",
      "[Parallel(n_jobs=-1)]: Done   5 out of   5 | elapsed:   29.4s finished\n",
      "[Parallel(n_jobs=-1)]: Using backend LokyBackend with 8 concurrent workers.\n",
      "[Parallel(n_jobs=-1)]: Done   2 out of   5 | elapsed:   27.0s remaining:   40.5s\n",
      "[Parallel(n_jobs=-1)]: Done   5 out of   5 | elapsed:   36.6s finished\n",
      "[Parallel(n_jobs=-1)]: Using backend LokyBackend with 8 concurrent workers.\n",
      "[Parallel(n_jobs=-1)]: Done   2 out of   5 | elapsed:   34.0s remaining:   51.0s\n",
      "[Parallel(n_jobs=-1)]: Done   5 out of   5 | elapsed:   40.8s finished\n",
      "[Parallel(n_jobs=-1)]: Using backend LokyBackend with 8 concurrent workers.\n",
      "[Parallel(n_jobs=-1)]: Done   2 out of   5 | elapsed:   27.4s remaining:   41.0s\n",
      "[Parallel(n_jobs=-1)]: Done   5 out of   5 | elapsed:   35.0s finished\n",
      "[Parallel(n_jobs=-1)]: Using backend LokyBackend with 8 concurrent workers.\n",
      "[Parallel(n_jobs=-1)]: Done   2 out of   5 | elapsed:   20.2s remaining:   30.3s\n",
      "[Parallel(n_jobs=-1)]: Done   5 out of   5 | elapsed:   21.1s finished\n",
      "[Parallel(n_jobs=-1)]: Using backend LokyBackend with 8 concurrent workers.\n",
      "[Parallel(n_jobs=-1)]: Done   2 out of   5 | elapsed:   19.6s remaining:   29.4s\n",
      "[Parallel(n_jobs=-1)]: Done   5 out of   5 | elapsed:   24.3s finished\n"
     ]
    }
   ],
   "source": [
    "# Definimos varias opciones para la distribución de las capas de neuronas\n",
    "layers = [(50,), (100,), (50, 50), (100, 100), (200,), (150, 150), (200, 100), (100, 50, 25), (150, 100, 50)]\n",
    "\n",
    "# Inicializamos la lista de scores\n",
    "scores = {}\n",
    "\n",
    "# Iterate over the list of hidden layer sizes\n",
    "for hidden_layer_sizes in layers:\n",
    "    # Set parameters for the neural network model inside the pipeline\n",
    "    params = {'classifier__hidden_layer_sizes': hidden_layer_sizes,\n",
    "              'classifier__activation':'logistic'}\n",
    "    pipeline.set_params(**params)\n",
    "    \n",
    "    # Perform cross-validation\n",
    "    cv_results = cross_validate(estimator=pipeline, X=X_scaled_train, y=y_scaled_train,\n",
    "                                scoring=METRICS, cv=kf, return_train_score=True,\n",
    "                                verbose=1, n_jobs=-1)\n",
    "    \n",
    "    # Append the results to the scores list\n",
    "    scores[hidden_layer_sizes] = cv_results"
   ]
  },
  {
   "cell_type": "markdown",
   "id": "f6603e9e",
   "metadata": {},
   "source": [
    "Estudiamos las gráficas de las métricas para cada distribución de las capas para elegir la óptima y poder ajustar el resto de hiperparámetros."
   ]
  },
  {
   "cell_type": "code",
   "execution_count": 36,
   "id": "1be00375",
   "metadata": {
    "scrolled": true
   },
   "outputs": [
    {
     "data": {
      "image/png": "[encoded data removed]",
      "text/plain": [
       "<Figure size 1000x1500 with 3 Axes>"
      ]
     },
     "metadata": {},
     "output_type": "display_data"
    }
   ],
   "source": [
    "# Initialize subplots\n",
    "fig, axes = plt.subplots(3, 1, figsize=(10, 15))\n",
    "\n",
    "for i, metric in enumerate(METRICS.keys()):\n",
    "    # Initialize lists to store mean scores\n",
    "    train_means = []\n",
    "    test_means = []\n",
    "    \n",
    "    # Recorremos las capas\n",
    "    for layer in layers:\n",
    "        # Calculamos la media de esa métrica de entrenamiento y test\n",
    "        train_mean = np.mean(scores[layer][f\"train_{metric}\"])\n",
    "        test_mean = np.mean(scores[layer][f\"test_{metric}\"])\n",
    "\n",
    "        # Append to lists\n",
    "        train_means.append(train_mean)\n",
    "        test_means.append(test_mean)\n",
    "    \n",
    "    # Mostramos las métricas en la gráfica\n",
    "    axes[i].bar(range(len(layers)), train_means, label='Train')\n",
    "    axes[i].bar(range(len(layers)), test_means, label='Test')\n",
    "    \n",
    "    # Set labels and title\n",
    "    axes[i].set_xlabel('Layers')\n",
    "    axes[i].set_ylabel(metric)\n",
    "    axes[i].set_title(f'Mean {metric} for Different Layer Configurations')\n",
    "    \n",
    "    # Set xticks\n",
    "    axes[i].set_xticks(range(len(layers)))\n",
    "    axes[i].set_xticklabels(layers)\n",
    "    \n",
    "    # Set y-axis limits\n",
    "    axes[i].set_ylim(0.5, 1)\n",
    "        \n",
    "    # Add legend\n",
    "    axes[i].legend()\n",
    "\n",
    "# Adjust layout\n",
    "plt.tight_layout()\n",
    "\n",
    "# Show plots\n",
    "plt.show()"
   ]
  },
  {
   "cell_type": "markdown",
   "id": "1fbd1235",
   "metadata": {},
   "source": [
    "Estudiando las gráficas, observamos que tanto para balanced_accuracy como para sensitivity el valor de la métrica en el test encuentra su máximo en una distribución de (150, 150).\n",
    "Aunque no es el caso para specificity (que se maximiza en (200, 100)), consigue un valor muy alto de 0.9.\n",
    "\n",
    "Por lo tanto, elegimos la estructura (150, 150) apoyándonos en las dos primeras métricas para continuar ajustando los hiperparámetros en el siguiente paso."
   ]
  },
  {
   "cell_type": "code",
   "execution_count": 37,
   "id": "3f10efbc",
   "metadata": {},
   "outputs": [],
   "source": [
    "LAYERS = (150, 150)"
   ]
  },
  {
   "cell_type": "code",
   "execution_count": 38,
   "id": "b349fe13",
   "metadata": {},
   "outputs": [
    {
     "name": "stderr",
     "output_type": "stream",
     "text": [
      "/Users/maria/anaconda3/lib/python3.11/site-packages/mlflow/types/utils.py:393: UserWarning: Hint: Inferred schema contains integer column(s). Integer columns in Python cannot represent missing values. If your input data contains missing values at inference time, it will be encoded as floats and will cause a schema enforcement error. The best way to avoid this problem is to infer the model schema based on a realistic data sample (training dataset) that includes missing values. Alternatively, you can declare integer columns as doubles (float64) whenever these columns may have missing values. See `Handling Integers With Missing Values <https://www.mlflow.org/docs/latest/models.html#handling-integers-with-missing-values>`_ for more details.\n",
      "  warnings.warn(\n",
      "2024/04/28 01:46:48 WARNING mlflow.utils.validation: Tag value '[{\"run_id\": \"21c6d3c4468d4b889782632a0bae11aa\", \"artifact_path\": \"mlp_model\", \"utc_time_created\": \"2...' (22282 characters) is truncated to 5000 characters to meet the length limit.\n",
      "Successfully registered model 'ajuste_capas'.\n",
      "Created version '1' of model 'ajuste_capas'.\n"
     ]
    }
   ],
   "source": [
    "# Registramos los resultados en MlFlow del modelo con la mejor distribución de capas de neuronas\n",
    "best_scores = scores[LAYERS]\n",
    "best_params = {'classifier__hidden_layer_sizes': LAYERS,\n",
    "              'classifier__activation':'logistic'}\n",
    "\n",
    "# Como hemos usado cross validation esta vez, tenemos que crear un nuevo modelo con los parametros deseados\n",
    "best_model = MLPClassifier(hidden_layer_sizes=LAYERS,\n",
    "                           activation='logistic')\n",
    "\n",
    "\n",
    "with mlflow.start_run():\n",
    "    \n",
    "    # Calculamos la media de las métricas del mejor parámetro y las almacenamos\n",
    "    for metric in METRICS.keys():\n",
    "        # Calculate the mean values for train and test sets\n",
    "        train_mean = np.mean(best_scores[f\"train_{metric}\"])\n",
    "        test_mean = np.mean(best_scores[f\"test_{metric}\"])\n",
    "        \n",
    "        # Calculate the standard deviations for train and test sets\n",
    "        train_std = np.std(best_scores[f\"train_{metric}\"])\n",
    "        test_std = np.std(best_scores[f\"test_{metric}\"])\n",
    "\n",
    "        # Log the standard deviations for train and test sets\n",
    "        mlflow.log_metric(f\"train_{metric}_std\", train_std)\n",
    "        mlflow.log_metric(f\"test_{metric}_std\", test_std)\n",
    "\n",
    "        # Log the mean values for train and test sets\n",
    "        mlflow.log_metric(f\"train_{metric}_mean\", train_mean)\n",
    "        mlflow.log_metric(f\"test_{metric}_mean\", test_mean)\n",
    "    \n",
    "    # Almacenamos los valores de los hiperparámetros\n",
    "    for key, value in best_params.items():\n",
    "        mlflow.log_param(key, value)\n",
    "    \n",
    "    # Establecemos una etiqueta que describe el propósito de esta ejecución\n",
    "    mlflow.set_tag(\"Información\", \"Ajuste capas neuronas. Con dataset escalado. sinfic\")\n",
    "\n",
    "    # Inferimos el signature del modelo, que describe el tipo de entrada y salida del modelo\n",
    "    best_model.fit(X_to_train, y_scaled_train) # en este caso le metemos el df con las dummies de PriceFormat porque el modelo no tiene pipeline porque es el básico\n",
    "    signature = infer_signature(X_to_train, best_model.predict(X_to_train))\n",
    "\n",
    "    # Registramos el modelo\n",
    "    model_info = mlflow.sklearn.log_model(\n",
    "        sk_model=best_model,\n",
    "        artifact_path=\"mlp_model\",\n",
    "        signature=signature,\n",
    "        input_example=X_to_train,\n",
    "        registered_model_name=\"ajuste_capas\",\n",
    "    )"
   ]
  },
  {
   "cell_type": "markdown",
   "id": "58390595",
   "metadata": {},
   "source": [
    "### 2. Ajuste hiperparámetros adicionales"
   ]
  },
  {
   "cell_type": "markdown",
   "id": "2d33d622",
   "metadata": {},
   "source": [
    "Vamos a determinar algunos parámetros por defecto para mejorar la eficiencia del modelo:\n",
    "* **hidden_layer_sizes:** (150, 150) - obtenidos del experimento anterior\n",
    "* **activation:** 'logistic' - la salida es una probabilidad\n",
    "* **early_stopping:** True - detiene el entrenamiento de modelos cuando métricas que no mejoran\n",
    "* **solver:** 'adam' - método por defecto. Optimiza el descenso de gradiente estocástico y se recomienda para datasets grandes (más de mil filas de entrenamiento)"
   ]
  },
  {
   "cell_type": "markdown",
   "id": "71e12125",
   "metadata": {},
   "source": [
    "### 2.1 Grid Search\n",
    "[GridSearchCV - Sklearn](https://scikit-learn.org/stable/modules/generated/sklearn.model_selection.GridSearchCV.html)"
   ]
  },
  {
   "cell_type": "code",
   "execution_count": 39,
   "id": "3b73e009",
   "metadata": {},
   "outputs": [
    {
     "name": "stdout",
     "output_type": "stream",
     "text": [
      "Fitting 5 folds for each of 84 candidates, totalling 420 fits\n"
     ]
    }
   ],
   "source": [
    "# Definimos la rejilla de hiperparámetros que vamos a explorar\n",
    "param_grid = {\n",
    "    'classifier__hidden_layer_sizes': [LAYERS],\n",
    "    'classifier__activation': ['logistic'],\n",
    "    'classifier__early_stopping': [True],\n",
    "    'classifier__alpha': [0.00001, 0.0001, 0.001, 0.01, 0.1, 0.5, 1],\n",
    "    'classifier__learning_rate': ['constant', 'invscaling', 'adaptive'],\n",
    "    'classifier__learning_rate_init': [0.0001, 0.001, 0.01, 0.1]\n",
    "}\n",
    "\n",
    "# Realizamos la exploración\n",
    "grid_search = GridSearchCV(estimator=pipeline, param_grid=param_grid, cv=kf,\n",
    "                           scoring=METRICS, return_train_score=True,\n",
    "                           refit='balanced_accuracy',\n",
    "                           verbose=1, n_jobs=-1)\n",
    "\n",
    "grid_search.fit(X_scaled_train, y_scaled_train)\n",
    "\n",
    "# Resultados\n",
    "cv_results_gr = grid_search.cv_results_\n",
    "best_params_gr = grid_search.best_params_"
   ]
  },
  {
   "cell_type": "code",
   "execution_count": 41,
   "id": "f693d147",
   "metadata": {
    "scrolled": false
   },
   "outputs": [
    {
     "data": {
      "text/plain": [
       "{'classifier__activation': 'logistic',\n",
       " 'classifier__alpha': 1,\n",
       " 'classifier__early_stopping': True,\n",
       " 'classifier__hidden_layer_sizes': (150, 150),\n",
       " 'classifier__learning_rate': 'constant',\n",
       " 'classifier__learning_rate_init': 0.001}"
      ]
     },
     "execution_count": 41,
     "metadata": {},
     "output_type": "execute_result"
    }
   ],
   "source": [
    "best_params_gr"
   ]
  },
  {
   "cell_type": "code",
   "execution_count": null,
   "id": "0510e8ee",
   "metadata": {},
   "outputs": [],
   "source": [
    "# Convertimos los resultados de la validación cruzada en un dataframe\n",
    "df_results = pd.DataFrame(grid_search.cv_results_)\n",
    "\n",
    "# Filtramos la fila con los mejores parámetros\n",
    "filtered_row = df_results.loc[\n",
    "    (df_results['param_classifier__activation'] == 'logistic') &\n",
    "    (df_results['param_classifier__alpha'] == 1) &\n",
    "    (df_results['param_classifier__early_stopping'] == True) &\n",
    "    (df_results['param_classifier__hidden_layer_sizes'] == (150, 150)) &\n",
    "    (df_results['param_classifier__learning_rate'] == 'constant') &\n",
    "    (df_results['param_classifier__learning_rate_init'] == 0.001)\n",
    "]\n",
    "\n",
    "# Índice de la fila con mejores parámetros\n",
    "index_row = filtered_row.index[0]\n",
    "\n",
    "# Clasificación del modelo\n",
    "tags = {\n",
    "    \"variables\": \"311\",\n",
    "    \"transformación\": \"ESCALADO ROBUSTO\",\n",
    "    \"estrategia\": \"GRID SEARCH CV\",\n",
    "    \"smote\": \"SI\"\n",
    "}\n",
    "\n",
    "# Registramos el modelo en nuestra base de datos\n",
    "registrarResultadosMLFlow(\"MLP_FIXED_LAYERS_GRID_SEARCH\", grid_search, X_scaled_train, best_params, index_row, df_results, tags)"
   ]
  },
  {
   "cell_type": "markdown",
   "id": "873ebb69",
   "metadata": {},
   "source": [
    "### 2.2 Random Search"
   ]
  },
  {
   "cell_type": "markdown",
   "id": "6b2d635a",
   "metadata": {},
   "source": [
    "[RandomizedSearchCV - sklearn](https://scikit-learn.org/stable/modules/generated/sklearn.model_selection.RandomizedSearchCV.html)\n",
    "\n",
    "Con esta estrategia podemos aprovechar un rango más amplio de posibles hiperparámetros sin comprometer la capacidad computacional, ya que coge un número fijo (`n_iter`) de combinaciones aleatorias dentro de los rangos establecidos. \n",
    "\n",
    "Para beneficiarnos más de esta técnica y aumentar la variedad, vamos a presentar los posibles valores de los parámetros continuos como distribuciones."
   ]
  },
  {
   "cell_type": "code",
   "execution_count": 68,
   "id": "12e9e93c",
   "metadata": {},
   "outputs": [
    {
     "name": "stdout",
     "output_type": "stream",
     "text": [
      "Fitting 5 folds for each of 84 candidates, totalling 420 fits\n"
     ]
    }
   ],
   "source": [
    "# Definimos las distribuciones de los parámetros\n",
    "param_dist = {\n",
    "    'classifier__hidden_layer_sizes': [LAYERS],\n",
    "    'classifier__activation': ['logistic'],\n",
    "    'classifier__early_stopping': [True],\n",
    "    'classifier__alpha': uniform(0.00001, 1),\n",
    "    'classifier__learning_rate': ['constant', 'invscaling', 'adaptive'],\n",
    "    'classifier__learning_rate_init': uniform(0.0001, 0.1)\n",
    "}\n",
    "\n",
    "# Número de iteraciones que realizará el Randomized Search\n",
    "N_ITER = 84\n",
    "\n",
    "# Realizamos la exploración\n",
    "random_search = RandomizedSearchCV(estimator=pipeline, param_distributions=param_dist, n_iter=N_ITER, cv=kf,\n",
    "                                    scoring=METRICS, return_train_score=True,\n",
    "                                    refit=\"balanced_accuracy\",\n",
    "                                    verbose=1, n_jobs=-1)\n",
    "\n",
    "random_search.fit(X_scaled_train, y_scaled_train)\n",
    "\n",
    "# Resultados\n",
    "cv_results_rand = random_search.cv_results_\n",
    "best_params_rand = random_search.best_params_"
   ]
  },
  {
   "cell_type": "code",
   "execution_count": 70,
   "id": "e3eeb1fa",
   "metadata": {
    "scrolled": true
   },
   "outputs": [
    {
     "data": {
      "text/plain": [
       "{'classifier__activation': 'logistic',\n",
       " 'classifier__alpha': 0.8773407884629941,\n",
       " 'classifier__early_stopping': True,\n",
       " 'classifier__hidden_layer_sizes': (150, 150),\n",
       " 'classifier__learning_rate': 'adaptive',\n",
       " 'classifier__learning_rate_init': 0.0023019050769459534}"
      ]
     },
     "execution_count": 70,
     "metadata": {},
     "output_type": "execute_result"
    }
   ],
   "source": [
    "best_params_rand"
   ]
  },
  {
   "cell_type": "code",
   "execution_count": null,
   "id": "b9c05124",
   "metadata": {},
   "outputs": [],
   "source": [
    "# Convertimos los resultados de la validación cruzada en un dataframe\n",
    "df_results = pd.DataFrame(cv_results)\n",
    "\n",
    "# Filtramos la fila con los mejores parámetros\n",
    "filtered_row = df_results.loc[\n",
    "    (df_results['param_classifier__activation'] == 'logistic') &\n",
    "    (df_results['param_classifier__alpha'] == 0.8773407884629941) &\n",
    "    (df_results['param_classifier__early_stopping'] == True) &\n",
    "    (df_results['param_classifier__hidden_layer_sizes'] == (150, 150)) &\n",
    "    (df_results['param_classifier__learning_rate'] == 'adaptive') &\n",
    "    (df_results['param_classifier__learning_rate_init'] == 0.0023019050769459534)\n",
    "]\n",
    "\n",
    "# Índice de la fila con los mejores parámetros\n",
    "index_row = filtered_row.index[0]\n",
    "\n",
    "# Clasificación del modelo\n",
    "tags = {\n",
    "    \"variables\": \"311\",\n",
    "    \"transformación\": \"ESCALADO ROBUSTO\",\n",
    "    \"estrategia\": \"RANDOM SEARCH CV\",\n",
    "    \"smote\": \"SI\"\n",
    "}\n",
    "\n",
    "# Registramos los resultados en la base de datos\n",
    "registrarResultadosMLFlow(\"MLP_FIXED_LAYERS_RANDOM_SEARCH\", random_search, X_scaled_train, \n",
    "                          best_params, index_row, df_results, tags)"
   ]
  },
  {
   "cell_type": "markdown",
   "id": "3ea95abe",
   "metadata": {},
   "source": [
    "### 3. Ajuste combinado de hiperparámetros\n",
    "Vamos a intentar aplicar las estrategias de búsqueda a todos los hiperparámetros a la vez para ver si mejora el resultado."
   ]
  },
  {
   "cell_type": "markdown",
   "id": "a70e6046",
   "metadata": {},
   "source": [
    "### 3.1 Grid Search\n",
    "[GridSearchCV - Sklearn](https://scikit-learn.org/stable/modules/generated/sklearn.model_selection.GridSearchCV.html)"
   ]
  },
  {
   "cell_type": "code",
   "execution_count": 71,
   "id": "440ec744",
   "metadata": {},
   "outputs": [
    {
     "name": "stdout",
     "output_type": "stream",
     "text": [
      "Fitting 5 folds for each of 162 candidates, totalling 810 fits\n"
     ]
    }
   ],
   "source": [
    "# Definimos los hiperparámetros de la rejilla que vamos a ajustar (135)\n",
    "# Dejamos solo las opciones de arquitectura que eran las más prometedoras en la prueba individual (2 capas)\n",
    "param_grid = {\n",
    "    'classifier__hidden_layer_sizes': [(100, 100), (150, 150), (200, 100)],\n",
    "    'classifier__activation': ['logistic'],\n",
    "    'classifier__early_stopping': [True],\n",
    "    'classifier__alpha': [0.0001, 0.001, 0.01, 0.1, 0.5, 1],\n",
    "    'classifier__learning_rate': ['constant', 'invscaling', 'adaptive'],\n",
    "    'classifier__learning_rate_init': [0.001, 0.01, 0.1]\n",
    "}\n",
    "\n",
    "# Realizamos la exploración\n",
    "grid_search3 = GridSearchCV(estimator=pipeline, param_grid=param_grid, cv=kf,\n",
    "                           scoring=METRICS, return_train_score=True,\n",
    "                           refit='balanced_accuracy',\n",
    "                           verbose=1, n_jobs=-1)\n",
    "\n",
    "grid_search3.fit(X_scaled_train, y_scaled_train)\n",
    "\n",
    "# Resultados\n",
    "cv_results_gr3 = grid_search3.cv_results_\n",
    "best_params_gr3 = grid_search3.best_params_"
   ]
  },
  {
   "cell_type": "code",
   "execution_count": 72,
   "id": "d5d0782b",
   "metadata": {
    "scrolled": true
   },
   "outputs": [
    {
     "data": {
      "text/plain": [
       "{'classifier__activation': 'logistic',\n",
       " 'classifier__alpha': 1,\n",
       " 'classifier__early_stopping': True,\n",
       " 'classifier__hidden_layer_sizes': (150, 150),\n",
       " 'classifier__learning_rate': 'constant',\n",
       " 'classifier__learning_rate_init': 0.001}"
      ]
     },
     "execution_count": 72,
     "metadata": {},
     "output_type": "execute_result"
    }
   ],
   "source": [
    "best_params_gr3"
   ]
  },
  {
   "cell_type": "code",
   "execution_count": null,
   "id": "e5d0eb9e",
   "metadata": {},
   "outputs": [],
   "source": [
    "# Convertimos los resultados de la validación cruzada en un dataframe\n",
    "df_results = pd.DataFrame(grid_search3.cv_results_)\n",
    "\n",
    "# Filtramos la fila con los mejores parámetros\n",
    "filtered_row = df_results.loc[\n",
    "    (df_results['param_classifier__activation'] == 'logistic') &\n",
    "    (df_results['param_classifier__alpha'] == 1) &\n",
    "    (df_results['param_classifier__early_stopping'] == True) &\n",
    "    (df_results['param_classifier__hidden_layer_sizes'] == (150, 150)) &\n",
    "    (df_results['param_classifier__learning_rate'] == 'constant') &\n",
    "    (df_results['param_classifier__learning_rate_init'] == 0.001)\n",
    "]\n",
    "\n",
    "# Índice de la fila con los mejores parámetros\n",
    "index_row = filtered_row.index[0]\n",
    "\n",
    "# Clasificación del modelo\n",
    "tags = {\n",
    "    \"variables\": \"311\",\n",
    "    \"transformación\": \"ESCALADO ROBUSTO\",\n",
    "    \"estrategia\": \"GRID SEARCH CV\",\n",
    "    \"smote\": \"NO\"\n",
    "}\n",
    "\n",
    "# Registramos los resultados en nuestra base de datos\n",
    "registrarResultadosMLFlow(\"MLP_FULL_GRID_SEARCH\", grid_search3, X_scaled_train, \n",
    "                          best_params, index_row, df_results, tags)"
   ]
  },
  {
   "cell_type": "markdown",
   "id": "86cc9793",
   "metadata": {},
   "source": [
    "### 3.2 Random Search\n",
    "[RandomizedSearchCV - sklearn](https://scikit-learn.org/stable/modules/generated/sklearn.model_selection.RandomizedSearchCV.html)"
   ]
  },
  {
   "cell_type": "code",
   "execution_count": 73,
   "id": "c9bf4bb7",
   "metadata": {},
   "outputs": [
    {
     "name": "stdout",
     "output_type": "stream",
     "text": [
      "Fitting 5 folds for each of 135 candidates, totalling 675 fits\n"
     ]
    }
   ],
   "source": [
    "# Defino las distribuciones de los parámetros\n",
    "param_grid = {\n",
    "    'classifier__hidden_layer_sizes': [(100, 100), (150, 150), (200, 100)],\n",
    "    'classifier__activation': ['logistic'],\n",
    "    'classifier__early_stopping': [True],\n",
    "    'classifier__alpha': uniform(0.00001, 1),\n",
    "    'classifier__learning_rate': ['constant', 'invscaling', 'adaptive'],\n",
    "    'classifier__learning_rate_init': uniform(0.0001, 0.1)\n",
    "}\n",
    "\n",
    "# Número de iteraciones que realizará el Randomized Search\n",
    "N_ITER = 135\n",
    "\n",
    "# Realizamos la exploración\n",
    "random_search3 = RandomizedSearchCV(estimator=pipeline, param_distributions=param_dist, n_iter=N_ITER, cv=kf,\n",
    "                                    scoring=METRICS, return_train_score=True,\n",
    "                                    refit=\"balanced_accuracy\",\n",
    "                                    verbose=1, n_jobs=-1)\n",
    "\n",
    "random_search3.fit(X_scaled_train, y_scaled_train)\n",
    "\n",
    "# Resultados\n",
    "cv_results_rand3 = random_search3.cv_results_\n",
    "best_params_rand3 = random_search3.best_params_"
   ]
  },
  {
   "cell_type": "code",
   "execution_count": 74,
   "id": "420a29a0",
   "metadata": {
    "scrolled": true
   },
   "outputs": [
    {
     "data": {
      "text/plain": [
       "{'classifier__activation': 'logistic',\n",
       " 'classifier__alpha': 0.18324441181200563,\n",
       " 'classifier__early_stopping': True,\n",
       " 'classifier__hidden_layer_sizes': (150, 150),\n",
       " 'classifier__learning_rate': 'adaptive',\n",
       " 'classifier__learning_rate_init': 0.0001757617926269938}"
      ]
     },
     "execution_count": 74,
     "metadata": {},
     "output_type": "execute_result"
    }
   ],
   "source": [
    "best_params_rand3"
   ]
  },
  {
   "cell_type": "code",
   "execution_count": 86,
   "id": "f140898b",
   "metadata": {},
   "outputs": [],
   "source": [
    "# Log the model with additional parameters\n",
    "r = 'fa7b7d4033574571996229ad87aceb64'\n",
    "with mlflow.start_run(run_id=r):\n",
    "    \n",
    "    # Log additional parameters\n",
    "    additional_params = {'classifier__activation': 'logistic',\n",
    " 'classifier__alpha': 0.18324441181200563,\n",
    " 'classifier__early_stopping': True,\n",
    " 'classifier__hidden_layer_sizes': (150, 150),\n",
    " 'classifier__learning_rate': 'adaptive',\n",
    " 'classifier__learning_rate_init': 0.0001757617926269938}\n",
    "    \n",
    "    mlflow.log_params(additional_params)"
   ]
  },
  {
   "cell_type": "code",
   "execution_count": null,
   "id": "21a09497",
   "metadata": {},
   "outputs": [],
   "source": [
    "# Convertimos los resultados de la validación cruzada en un dataframe\n",
    "df_results = pd.DataFrame(random_search3.cv_results_)\n",
    "\n",
    "# Filtramos la fila con los mejores parámetros\n",
    "filtered_row = df_results.loc[\n",
    "    (df_results['param_classifier__activation'] == 'logistic') &\n",
    "    (df_results['param_classifier__alpha'] == 0.18324441181200563) &\n",
    "    (df_results['param_classifier__early_stopping'] == True) &\n",
    "    (df_results['param_classifier__hidden_layer_sizes'] == (150, 150)) &\n",
    "    (df_results['param_classifier__learning_rate'] == 'adaptive') &\n",
    "    (df_results['param_classifier__learning_rate_init'] == 0.0001757617926269938)\n",
    "]\n",
    "\n",
    "# Índice de la fila con los mejores resultados\n",
    "index_row = filtered_row.index[0]\n",
    "\n",
    "# Clasificación del modelo\n",
    "tags = {\n",
    "    \"variables\": \"311\",\n",
    "    \"transformación\": \"ESCALADO ROBUSTO\",\n",
    "    \"estrategia\": \"RANDOM SEARCH CV\",\n",
    "    \"smote\": \"SI\"\n",
    "}\n",
    "\n",
    "# Registramos el modelo\n",
    "registrarResultadosMLFlow(\"MLP_FULL_RANDOM_SEARCH\", random_search3, X_scaled_train, \n",
    "                          best_params, index_row, df_results, tags)"
   ]
  },
  {
   "cell_type": "code",
   "execution_count": null,
   "id": "7ecabe64",
   "metadata": {},
   "outputs": [],
   "source": []
  }
 ],
 "metadata": {
  "kernelspec": {
   "display_name": "Python 3 (ipykernel)",
   "language": "python",
   "name": "python3"
  },
  "language_info": {
   "codemirror_mode": {
    "name": "ipython",
    "version": 3
   },
   "file_extension": ".py",
   "mimetype": "text/x-python",
   "name": "python",
   "nbconvert_exporter": "python",
   "pygments_lexer": "ipython3",
   "version": "3.11.5"
  }
 },
 "nbformat": 4,
 "nbformat_minor": 5
}
